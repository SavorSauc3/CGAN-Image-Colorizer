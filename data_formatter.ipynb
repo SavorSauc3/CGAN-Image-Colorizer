{
 "cells": [
  {
   "cell_type": "code",
   "execution_count": 1,
   "id": "bc409c41-855d-46fd-b836-02fb8e8edfdf",
   "metadata": {
    "tags": []
   },
   "outputs": [],
   "source": [
    "from PIL import Image\n",
    "import os\n",
    "import numpy as np\n",
    "import shutil"
   ]
  },
  {
   "cell_type": "code",
   "execution_count": 2,
   "id": "41dc595b-32ec-4ac4-8171-c4e204f0db62",
   "metadata": {
    "tags": []
   },
   "outputs": [],
   "source": [
    "input_folder = 'Data/MS COCO/MS COCO/val2017'\n",
    "output_folder = 'Data/MS COCO GR_RGB'\n",
    "os.makedirs(output_folder, exist_ok=True)"
   ]
  },
  {
   "cell_type": "code",
   "execution_count": 4,
   "id": "8666a7df-3a68-43da-9dfa-d0eb6f672641",
   "metadata": {
    "tags": []
   },
   "outputs": [
    {
     "name": "stdout",
     "output_type": "stream",
     "text": [
      "BW: 5000\n",
      "COLOR: 5000\n"
     ]
    }
   ],
   "source": [
    "bw_folder = os.path.join(output_folder, 'bw')\n",
    "color_folder = os.path.join(output_folder, 'color')\n",
    "bw_count = 0\n",
    "color_count = 0\n",
    "bw_files = []\n",
    "color_files = []\n",
    "for filename in os.listdir(bw_folder):\n",
    "  bw_count += 1\n",
    "  bw_files.append(filename)\n",
    "\n",
    "for filename in os.listdir(color_folder):\n",
    "  color_count += 1\n",
    "  color_files.append(filename)\n",
    "\n",
    "print(f'BW: {bw_count}\\nCOLOR: {color_count}')"
   ]
  },
  {
   "cell_type": "code",
   "execution_count": 11,
   "id": "9097c464-0c0d-4637-b491-0803af48107b",
   "metadata": {
    "tags": []
   },
   "outputs": [],
   "source": [
    "count = 0\n",
    "filenames = []\n",
    "for filename in os.listdir(input_folder):\n",
    "  count += 1\n",
    "  filenames.append(filename)"
   ]
  },
  {
   "cell_type": "code",
   "execution_count": 12,
   "id": "95b0def8-df84-40b9-aa68-a8f402aae910",
   "metadata": {
    "tags": []
   },
   "outputs": [],
   "source": [
    "for filename in filenames:\n",
    "  if f'bw_{filename}' not in bw_files:\n",
    "    print(f'{filename} not in bw_files')"
   ]
  },
  {
   "cell_type": "code",
   "execution_count": 13,
   "id": "1c5acd71-3fb1-4c48-9891-fc5fc8c345ea",
   "metadata": {
    "tags": []
   },
   "outputs": [],
   "source": [
    "mismatched_files = []\n",
    "for filename in filenames:\n",
    "  if f'color_{filename}' not in color_files:\n",
    "    print(f'{filename} not in color_files')\n",
    "    mismatched_files.append(filename)\n"
   ]
  },
  {
   "cell_type": "code",
   "execution_count": 14,
   "id": "c4e2f0b6-9bba-4a58-bcc3-2f437a036e7e",
   "metadata": {
    "tags": []
   },
   "outputs": [],
   "source": [
    "for file in mismatched_files:\n",
    "    path = os.path.join(input_folder, file)\n",
    "    os.remove(path)\n",
    "    print('file was removed successfully')"
   ]
  },
  {
   "cell_type": "code",
   "execution_count": null,
   "id": "4a7f5d3b-fc6d-41aa-8631-139759c41342",
   "metadata": {},
   "outputs": [],
   "source": []
  }
 ],
 "metadata": {
  "kernelspec": {
   "display_name": "Python 3 (ipykernel)",
   "language": "python",
   "name": "python3"
  },
  "language_info": {
   "codemirror_mode": {
    "name": "ipython",
    "version": 3
   },
   "file_extension": ".py",
   "mimetype": "text/x-python",
   "name": "python",
   "nbconvert_exporter": "python",
   "pygments_lexer": "ipython3",
   "version": "3.10.13"
  }
 },
 "nbformat": 4,
 "nbformat_minor": 5
}
