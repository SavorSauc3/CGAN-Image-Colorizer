{
 "cells": [
  {
   "cell_type": "code",
   "execution_count": 51,
   "id": "70f07523-9e06-4bfb-ac76-8a689246b2dc",
   "metadata": {
    "tags": []
   },
   "outputs": [
    {
     "name": "stdout",
     "output_type": "stream",
     "text": [
      "cuda\n"
     ]
    }
   ],
   "source": [
    "# Import Dependencies\n",
    "import os\n",
    "import glob\n",
    "import time\n",
    "import numpy as np\n",
    "from PIL import Image\n",
    "from pathlib import Path\n",
    "from tqdm.notebook import tqdm\n",
    "import matplotlib.pyplot as plt\n",
    "from skimage.color import rgb2lab, lab2rgb, rgba2rgb\n",
    "import cv2\n",
    "\n",
    "import torch\n",
    "from torch import nn, optim\n",
    "from torchvision import transforms\n",
    "from torchvision.utils import make_grid\n",
    "from torch.utils.data import Dataset, DataLoader\n",
    "from torchinfo import summary\n",
    "import wandb\n",
    "device = torch.device(\"cuda\" if torch.cuda.is_available() else \"cpu\")\n",
    "print(device)\n",
    "use_colab = None\n",
    "os.environ['KMP_DUPLICATE_LIB_OK'] = 'True'"
   ]
  },
  {
   "cell_type": "code",
   "execution_count": null,
   "id": "a5cf1d47-c947-46e0-8641-9ce53f5429b7",
   "metadata": {
    "tags": []
   },
   "outputs": [],
   "source": [
    "wandb.init(project=\"image_colorization\", config={\n",
    "    \"architecture\": \"GAN\",\n",
    "    \"dataset\": \"CIFAR-100_VAL_2017\",\n",
    "})"
   ]
  },
  {
   "cell_type": "code",
   "execution_count": 53,
   "id": "542144f0-6fb3-4a33-9796-cd319b0a62fd",
   "metadata": {
    "tags": []
   },
   "outputs": [
    {
     "name": "stdout",
     "output_type": "stream",
     "text": [
      "N_TRAIN IMG: 4500\n",
      "N_VAL IMG: 490\n"
     ]
    }
   ],
   "source": [
    "path = \"Data/MS COCO/MS COCO/val2017\"\n",
    "image_paths = glob.glob(path + \"/*.jpg\") # Get all image filenames\n",
    "np.random.seed(420)\n",
    "train_idxs = image_paths[:4500]\n",
    "val_idxs = image_paths[4500:]\n",
    "print(f'N_TRAIN IMG: {len(train_idxs)}\\nN_VAL IMG: {len(val_idxs)}')"
   ]
  },
  {
   "cell_type": "code",
   "execution_count": 58,
   "id": "92ede624-0a12-451a-997a-425ce5c20cf4",
   "metadata": {
    "tags": []
   },
   "outputs": [],
   "source": [
    "size = 224\n",
    "class ColorizationDataset(Dataset):\n",
    "    def __init__(self, base_images, split='train'):\n",
    "        self.file_list = os.listdir(base_images)\n",
    "        if split == 'train':\n",
    "            self.file_list = self.file_list\n",
    "            print(len(self.file_list))\n",
    "            self.transforms = transforms.Compose([\n",
    "                transforms.Resize((256, 256), Image.BICUBIC),\n",
    "                transforms.RandomHorizontalFlip(), # Low image augmentation to maintain realism\n",
    "            ])\n",
    "        elif split == 'val':\n",
    "            self.file_list = self.file_list\n",
    "            print(len(self.file_list))\n",
    "            self.transforms = transforms.Resize((256, 256), Image.BICUBIC)\n",
    "        \n",
    "        self.split = split\n",
    "        self.base_images = base_images\n",
    "\n",
    "    def __len__(self):\n",
    "        return len(self.file_list)\n",
    "    \n",
    "    def rgb_to_lab(self, rgb_image):\n",
    "        # Transform the image to proper specifications\n",
    "        img = self.transforms(rgb_image)\n",
    "        rgb_img = np.array(img)\n",
    "        lab_img = rgb2lab(rgb_img)\n",
    "        lab_img = lab_img.transpose(2,1,0)\n",
    "        lab_img_torch = torch.from_numpy(lab_img)\n",
    "        # Normalize between -1 and 1\n",
    "        L = (lab_img_torch[[0], ...] / 50 - 1.).to(dtype=torch.float32)\n",
    "        ab = (lab_img_torch[[1, 2], ...] / 110.).to(dtype=torch.float32)\n",
    "        return L.to(device), ab.to(device)\n",
    "        \n",
    "    def __getitem__(self, idx):\n",
    "        colored_path = os.path.join(self.base_images, self.file_list[idx])\n",
    "        colored_image = Image.open(colored_path)\n",
    "        L, ab = self.rgb_to_lab(colored_image)\n",
    "        return {'L': L, 'ab': ab}\n",
    "    \n",
    "# Utility function for creating the data-loader\n",
    "def make_dataloaders(batch_size=16, n_workers=0, **kwargs): # Function for creating the dataloaders\n",
    "    dataset = ColorizationDataset(**kwargs)\n",
    "    dataloader = DataLoader(dataset, batch_size=batch_size, num_workers=n_workers)\n",
    "    return dataloader"
   ]
  },
  {
   "cell_type": "code",
   "execution_count": 55,
   "id": "ebe7980d-2124-4b43-ac1c-7640fa2388c7",
   "metadata": {
    "tags": []
   },
   "outputs": [
    {
     "name": "stdout",
     "output_type": "stream",
     "text": [
      "4500\n",
      "490\n",
      "Dataloaders Completed\n"
     ]
    }
   ],
   "source": [
    "train_dl = make_dataloaders(base_images=\"Data/MS COCO/MS COCO/val2017\", split='train')\n",
    "val_dl = make_dataloaders(base_images=\"Data/MS COCO/MS COCO/val2017\", split='val')\n",
    "print('Dataloaders Completed')"
   ]
  },
  {
   "cell_type": "code",
   "execution_count": 6,
   "id": "4460d945-20d9-4153-92bc-e85ba4e71dc5",
   "metadata": {},
   "outputs": [],
   "source": [
    "# Building blocks for our full generator model\n",
    "# Model will be very complex, so these blocks simplify the final product\n",
    "class UnetBlock(nn.Module):\n",
    "    def __init__(self, nf, ni, submodule=None, input_c=None, dropout=False,\n",
    "                 innermost=False, outermost=False):\n",
    "        super().__init__()\n",
    "        self.outermost = outermost\n",
    "        if input_c is None: input_c = nf\n",
    "        downconv = nn.Conv2d(input_c, ni, kernel_size=4,\n",
    "                             stride=2, padding=1, bias=False)\n",
    "        downrelu = nn.LeakyReLU(0.2, True)\n",
    "        downnorm = nn.BatchNorm2d(ni)\n",
    "        uprelu = nn.ReLU(True)\n",
    "        upnorm = nn.BatchNorm2d(nf)\n",
    "        \n",
    "        if outermost:\n",
    "            upconv = nn.ConvTranspose2d(ni * 2, nf, kernel_size=4,\n",
    "                                        stride=2, padding=1)\n",
    "            down = [downconv]\n",
    "            up = [uprelu, upconv, nn.Tanh()]\n",
    "            model = down + [submodule] + up\n",
    "        elif innermost:\n",
    "            upconv = nn.ConvTranspose2d(ni, nf, kernel_size=4,\n",
    "                                        stride=2, padding=1, bias=False)\n",
    "            down = [downrelu, downconv]\n",
    "            up = [uprelu, upconv, upnorm]\n",
    "            model = down + up\n",
    "        else:\n",
    "            upconv = nn.ConvTranspose2d(ni * 2, nf, kernel_size=4,\n",
    "                                        stride=2, padding=1, bias=False)\n",
    "            down = [downrelu, downconv, downnorm]\n",
    "            up = [uprelu, upconv, upnorm]\n",
    "            if dropout: up += [nn.Dropout(0.5)]\n",
    "            model = down + [submodule] + up\n",
    "        self.model = nn.Sequential(*model)\n",
    "    \n",
    "    def forward(self, x):\n",
    "        if self.outermost:\n",
    "            return self.model(x)\n",
    "        else:\n",
    "            return torch.cat([x, self.model(x)], 1)\n",
    "        \n",
    "# Now we will use these blocks for the final product\n",
    "class Unet(nn.Module):\n",
    "    def __init__(self, input_c=1, output_c=2, n_down=8, num_filters=64):\n",
    "        super().__init__()\n",
    "        unet_block = UnetBlock(num_filters * 8, num_filters * 8, innermost=True)\n",
    "        for _ in range(n_down - 5):\n",
    "            unet_block = UnetBlock(num_filters * 8, num_filters * 8, submodule=unet_block, dropout=True)\n",
    "        out_filters = num_filters * 8\n",
    "        for _ in range(3):\n",
    "            unet_block = UnetBlock(out_filters // 2, out_filters, submodule=unet_block)\n",
    "            out_filters //= 2\n",
    "        self.model = UnetBlock(output_c, out_filters, input_c=input_c, submodule=unet_block, outermost=True)\n",
    "    \n",
    "    def forward(self, x):\n",
    "        return self.model(x)"
   ]
  },
  {
   "cell_type": "code",
   "execution_count": 7,
   "id": "f29395fa-d701-4a7e-8bdb-86ac976f8036",
   "metadata": {
    "tags": []
   },
   "outputs": [],
   "source": [
    "# Simple Discriminator Model\n",
    "class PatchDiscriminator(nn.Module):\n",
    "    def __init__(self, input_c, num_filters=64, n_down=3):\n",
    "        super().__init__()\n",
    "        model = [self.get_layers(input_c, num_filters, norm=False)]\n",
    "        model += [self.get_layers(num_filters * 2 ** i, num_filters * 2 ** (i + 1), s=1 if i == (n_down-1) else 2) \n",
    "                          for i in range(n_down)] # the 'if' statement is taking care of not using\n",
    "                                                  # stride of 2 for the last block in this loop\n",
    "        model += [self.get_layers(num_filters * 2 ** n_down, 1, s=1, norm=False, act=False)] # Make sure to not use normalization or\n",
    "                                                                                             # activation for the last layer of the model\n",
    "        self.model = nn.Sequential(*model)                                                   \n",
    "        \n",
    "    def get_layers(self, ni, nf, k=4, s=2, p=1, norm=True, act=True): # when needing to make some repeatitive blocks of layers,\n",
    "        layers = [nn.Conv2d(ni, nf, k, s, p, bias=not norm)]          # it's always helpful to make a separate method for that purpose\n",
    "        if norm: layers += [nn.BatchNorm2d(nf)]\n",
    "        if act: layers += [nn.LeakyReLU(0.2, True)]\n",
    "        return nn.Sequential(*layers)\n",
    "    \n",
    "    def forward(self, x):\n",
    "        return self.model(x)"
   ]
  },
  {
   "cell_type": "code",
   "execution_count": 8,
   "id": "9fe4e4c5-5bd2-4f71-a087-84bde473cabe",
   "metadata": {
    "tags": []
   },
   "outputs": [
    {
     "data": {
      "text/plain": [
       "PatchDiscriminator(\n",
       "  (model): Sequential(\n",
       "    (0): Sequential(\n",
       "      (0): Conv2d(3, 64, kernel_size=(4, 4), stride=(2, 2), padding=(1, 1))\n",
       "      (1): LeakyReLU(negative_slope=0.2, inplace=True)\n",
       "    )\n",
       "    (1): Sequential(\n",
       "      (0): Conv2d(64, 128, kernel_size=(4, 4), stride=(2, 2), padding=(1, 1), bias=False)\n",
       "      (1): BatchNorm2d(128, eps=1e-05, momentum=0.1, affine=True, track_running_stats=True)\n",
       "      (2): LeakyReLU(negative_slope=0.2, inplace=True)\n",
       "    )\n",
       "    (2): Sequential(\n",
       "      (0): Conv2d(128, 256, kernel_size=(4, 4), stride=(2, 2), padding=(1, 1), bias=False)\n",
       "      (1): BatchNorm2d(256, eps=1e-05, momentum=0.1, affine=True, track_running_stats=True)\n",
       "      (2): LeakyReLU(negative_slope=0.2, inplace=True)\n",
       "    )\n",
       "    (3): Sequential(\n",
       "      (0): Conv2d(256, 512, kernel_size=(4, 4), stride=(1, 1), padding=(1, 1), bias=False)\n",
       "      (1): BatchNorm2d(512, eps=1e-05, momentum=0.1, affine=True, track_running_stats=True)\n",
       "      (2): LeakyReLU(negative_slope=0.2, inplace=True)\n",
       "    )\n",
       "    (4): Sequential(\n",
       "      (0): Conv2d(512, 1, kernel_size=(4, 4), stride=(1, 1), padding=(1, 1))\n",
       "    )\n",
       "  )\n",
       ")"
      ]
     },
     "execution_count": 8,
     "metadata": {},
     "output_type": "execute_result"
    }
   ],
   "source": [
    "PatchDiscriminator(3)"
   ]
  },
  {
   "cell_type": "code",
   "execution_count": 9,
   "id": "6ae6f394-db47-4f04-9862-d1aeaa32f8e4",
   "metadata": {
    "tags": []
   },
   "outputs": [
    {
     "data": {
      "text/plain": [
       "torch.Size([16, 1, 30, 30])"
      ]
     },
     "execution_count": 9,
     "metadata": {},
     "output_type": "execute_result"
    }
   ],
   "source": [
    "discriminator = PatchDiscriminator(3)\n",
    "dummy_input = torch.randn(16, 3, 256, 256) # batch_size, channels, size, size\n",
    "out = discriminator(dummy_input)\n",
    "out.shape"
   ]
  },
  {
   "cell_type": "code",
   "execution_count": 10,
   "id": "ca6a7555-8847-4ad2-bfb9-215f55616fb2",
   "metadata": {
    "tags": []
   },
   "outputs": [],
   "source": [
    "# Now we will make a class that can calculate the GAN loss of our final model\n",
    "class GANLoss(nn.Module):\n",
    "    def __init__(self, gan_mode='vanilla', real_label=1.0, fake_label=0.0):\n",
    "        super().__init__()\n",
    "        self.register_buffer('real_label', torch.tensor(real_label))\n",
    "        self.register_buffer('fake_label', torch.tensor(fake_label))\n",
    "        if gan_mode == 'vanilla':\n",
    "            self.loss = nn.BCEWithLogitsLoss()\n",
    "        elif gan_mode == 'lsgan':\n",
    "            self.loss = nn.MSELoss()\n",
    "    \n",
    "    def get_labels(self, preds, target_is_real):\n",
    "        if target_is_real:\n",
    "            labels = self.real_label\n",
    "        else:\n",
    "            labels = self.fake_label\n",
    "        return labels.expand_as(preds)\n",
    "    \n",
    "    def __call__(self, preds, target_is_real):\n",
    "        labels = self.get_labels(preds, target_is_real)\n",
    "        loss = self.loss(preds, labels)\n",
    "        return loss"
   ]
  },
  {
   "cell_type": "code",
   "execution_count": 11,
   "id": "2425fd64-0c77-4608-8d14-3ebb66b58c62",
   "metadata": {
    "tags": []
   },
   "outputs": [],
   "source": [
    "# Function for instantiating model and weights\n",
    "def init_weights(net, init='norm', gain=0.02):\n",
    "    \n",
    "    def init_func(m):\n",
    "        classname = m.__class__.__name__\n",
    "        if hasattr(m, 'weight') and 'Conv' in classname:\n",
    "            if init == 'norm':\n",
    "                nn.init.normal_(m.weight.data, mean=0.0, std=gain)\n",
    "            elif init == 'xavier':\n",
    "                nn.init.xavier_normal_(m.weight.data, gain=gain)\n",
    "            elif init == 'kaiming':\n",
    "                nn.init.kaiming_normal_(m.weight.data, a=0, mode='fan_in')\n",
    "            \n",
    "            if hasattr(m, 'bias') and m.bias is not None:\n",
    "                nn.init.constant_(m.bias.data, 0.0)\n",
    "        elif 'BatchNorm2d' in classname:\n",
    "            nn.init.normal_(m.weight.data, 1., gain)\n",
    "            nn.init.constant_(m.bias.data, 0.)\n",
    "            \n",
    "    net.apply(init_func)\n",
    "    print(f\"model initialized with {init} initialization\")\n",
    "    return net\n",
    "\n",
    "def init_model(model, device):\n",
    "    model = model.to(device)\n",
    "    model = init_weights(model)\n",
    "    return model"
   ]
  },
  {
   "cell_type": "code",
   "execution_count": 12,
   "id": "93973451-cdfc-4cc2-9db9-f66986c0e339",
   "metadata": {},
   "outputs": [],
   "source": [
    "# Combine the generator and discriminator into one model for ease of use during training\n",
    "class MainModel(nn.Module):\n",
    "    def __init__(self, net_G=None, lr_G=2e-4, lr_D=2e-4, \n",
    "                 beta1=0.5, beta2=0.999, lambda_L1=100.):\n",
    "        super().__init__()\n",
    "        \n",
    "        self.device = torch.device(\"cuda\" if torch.cuda.is_available() else \"cpu\")\n",
    "        self.lambda_L1 = lambda_L1\n",
    "        \n",
    "        if net_G is None:\n",
    "            self.net_G = init_model(Unet(input_c=1, output_c=2, n_down=8, num_filters=64), self.device)\n",
    "        else:\n",
    "            self.net_G = net_G.to(self.device)\n",
    "        self.net_D = init_model(PatchDiscriminator(input_c=3, n_down=3, num_filters=64), self.device)\n",
    "        self.GANcriterion = GANLoss(gan_mode='vanilla').to(self.device)\n",
    "        self.L1criterion = nn.L1Loss()\n",
    "        self.opt_G = optim.Adam(self.net_G.parameters(), lr=lr_G, betas=(beta1, beta2))\n",
    "        self.opt_D = optim.Adam(self.net_D.parameters(), lr=lr_D, betas=(beta1, beta2))\n",
    "    \n",
    "    def set_requires_grad(self, model, requires_grad=True):\n",
    "        for p in model.parameters():\n",
    "            p.requires_grad = requires_grad\n",
    "        \n",
    "    def setup_input(self, data):\n",
    "        self.L = data['L'].to(self.device)\n",
    "        self.ab = data['ab'].to(self.device)\n",
    "        \n",
    "    def forward(self):\n",
    "        self.fake_color = self.net_G(self.L)\n",
    "    \n",
    "    def backward_D(self):\n",
    "        fake_image = torch.cat([self.L, self.fake_color], dim=1)\n",
    "        fake_preds = self.net_D(fake_image.detach())\n",
    "        self.loss_D_fake = self.GANcriterion(fake_preds, False)\n",
    "        real_image = torch.cat([self.L, self.ab], dim=1)\n",
    "        real_preds = self.net_D(real_image)\n",
    "        self.loss_D_real = self.GANcriterion(real_preds, True)\n",
    "        self.loss_D = (self.loss_D_fake + self.loss_D_real) * 0.5\n",
    "        self.loss_D.backward()\n",
    "    \n",
    "    def backward_G(self):\n",
    "        fake_image = torch.cat([self.L, self.fake_color], dim=1)\n",
    "        fake_preds = self.net_D(fake_image)\n",
    "        self.loss_G_GAN = self.GANcriterion(fake_preds, True)\n",
    "        self.loss_G_L1 = self.L1criterion(self.fake_color, self.ab) * self.lambda_L1\n",
    "        self.loss_G = self.loss_G_GAN + self.loss_G_L1\n",
    "        self.loss_G.backward()\n",
    "    \n",
    "    def optimize(self):\n",
    "        self.forward()\n",
    "        self.net_D.train()\n",
    "        self.set_requires_grad(self.net_D, True)\n",
    "        self.opt_D.zero_grad()\n",
    "        self.backward_D()\n",
    "        self.opt_D.step()\n",
    "        \n",
    "        self.net_G.train()\n",
    "        self.set_requires_grad(self.net_D, False)\n",
    "        self.opt_G.zero_grad()\n",
    "        self.backward_G()\n",
    "        self.opt_G.step()"
   ]
  },
  {
   "cell_type": "code",
   "execution_count": 13,
   "id": "1705a73c-6b8b-49b1-a480-7ec6a71c782b",
   "metadata": {
    "tags": []
   },
   "outputs": [],
   "source": [
    "# Create some utility functions\n",
    "class AverageMeter:\n",
    "    def __init__(self):\n",
    "        self.reset()\n",
    "        \n",
    "    def reset(self):\n",
    "        self.count, self.avg, self.sum = [0.] * 3\n",
    "    \n",
    "    def update(self, val, count=1):\n",
    "        self.count += count\n",
    "        self.sum += count * val\n",
    "        self.avg = self.sum / self.count\n",
    "\n",
    "def create_loss_meters():\n",
    "    loss_D_fake = AverageMeter()\n",
    "    loss_D_real = AverageMeter()\n",
    "    loss_D = AverageMeter()\n",
    "    loss_G_GAN = AverageMeter()\n",
    "    loss_G_L1 = AverageMeter()\n",
    "    loss_G = AverageMeter()\n",
    "    \n",
    "    return {'loss_D_fake': loss_D_fake,\n",
    "            'loss_D_real': loss_D_real,\n",
    "            'loss_D': loss_D,\n",
    "            'loss_G_GAN': loss_G_GAN,\n",
    "            'loss_G_L1': loss_G_L1,\n",
    "            'loss_G': loss_G}\n",
    "\n",
    "def update_losses(model, loss_meter_dict, count):\n",
    "    for loss_name, loss_meter in loss_meter_dict.items():\n",
    "        loss = getattr(model, loss_name)\n",
    "        loss_meter.update(loss.item(), count=count)\n",
    "        wandb.log({loss_name: loss.item()})\n",
    "\n",
    "def lab_to_rgb(L, ab):\n",
    "    \"\"\"\n",
    "    Takes a batch of images\n",
    "    \"\"\"\n",
    "    \n",
    "    L = (L + 1.) * 50.\n",
    "    ab = ab * 110.\n",
    "    Lab = torch.cat([L, ab], dim=1).permute(0, 2, 3, 1).cpu().numpy()\n",
    "    rgb_imgs = []\n",
    "    for img in Lab:\n",
    "        img_rgb = lab2rgb(img)\n",
    "        rgb_imgs.append(img_rgb)\n",
    "    return np.stack(rgb_imgs, axis=0)\n",
    "\n",
    "def visualize(model, data, save=True):\n",
    "    model.net_G.eval()\n",
    "    with torch.no_grad():\n",
    "        model.setup_input(data)\n",
    "        model.forward()\n",
    "    model.net_G.train()\n",
    "    fake_color = model.fake_color.detach()\n",
    "    real_color = model.ab\n",
    "    L = model.L\n",
    "    fake_imgs = lab_to_rgb(L, fake_color)\n",
    "    real_imgs = lab_to_rgb(L, real_color)\n",
    "    number = np.random.randint(low=0, high=16)\n",
    "    wandb.log({\n",
    "        \"input_image\": wandb.Image(np.rot90(L[number][0].cpu(), 3)),\n",
    "        \"reconstruction_image\": wandb.Image(np.rot90(fake_imgs[number], 3)),\n",
    "        \"ground_truth_image\": wandb.Image(np.rot90(real_imgs[number], 3)),\n",
    "    })\n",
    "    \n",
    "def log_results(loss_meter_dict):\n",
    "    for loss_name, loss_meter in loss_meter_dict.items():\n",
    "        print(f'{loss_name}: {loss_meter.avg:.5f}')"
   ]
  },
  {
   "cell_type": "code",
   "execution_count": 14,
   "id": "20c69ece-d323-4475-944f-e26013dd3c4d",
   "metadata": {
    "tags": []
   },
   "outputs": [
    {
     "name": "stdout",
     "output_type": "stream",
     "text": [
      "model initialized with norm initialization\n",
      "model initialized with norm initialization\n"
     ]
    },
    {
     "data": {
      "application/vnd.jupyter.widget-view+json": {
       "model_id": "7f4804b0716f4ee99ee160b2d81fe1ed",
       "version_major": 2,
       "version_minor": 0
      },
      "text/plain": [
       "  0%|          | 0/282 [00:00<?, ?it/s]"
      ]
     },
     "metadata": {},
     "output_type": "display_data"
    },
    {
     "name": "stdout",
     "output_type": "stream",
     "text": [
      "\n",
      "Epoch 1/100\n",
      "Iteration 200/282\n",
      "loss_D_fake: 0.41537\n",
      "loss_D_real: 0.42294\n",
      "loss_D: 0.41916\n",
      "loss_G_GAN: 1.83694\n",
      "loss_G_L1: 9.45337\n",
      "loss_G: 11.29031\n"
     ]
    },
    {
     "data": {
      "application/vnd.jupyter.widget-view+json": {
       "model_id": "92ed5f6e9d6e4c0aa600c74dde9c583b",
       "version_major": 2,
       "version_minor": 0
      },
      "text/plain": [
       "  0%|          | 0/282 [00:00<?, ?it/s]"
      ]
     },
     "metadata": {},
     "output_type": "display_data"
    },
    {
     "name": "stdout",
     "output_type": "stream",
     "text": [
      "\n",
      "Epoch 2/100\n",
      "Iteration 200/282\n",
      "loss_D_fake: 0.48764\n",
      "loss_D_real: 0.52443\n",
      "loss_D: 0.50603\n",
      "loss_G_GAN: 1.48347\n",
      "loss_G_L1: 10.31897\n",
      "loss_G: 11.80243\n"
     ]
    },
    {
     "data": {
      "application/vnd.jupyter.widget-view+json": {
       "model_id": "1cae54ed792843cb8813e132a344b71a",
       "version_major": 2,
       "version_minor": 0
      },
      "text/plain": [
       "  0%|          | 0/282 [00:00<?, ?it/s]"
      ]
     },
     "metadata": {},
     "output_type": "display_data"
    },
    {
     "name": "stdout",
     "output_type": "stream",
     "text": [
      "\n",
      "Epoch 3/100\n",
      "Iteration 200/282\n",
      "loss_D_fake: 0.50506\n",
      "loss_D_real: 0.55371\n",
      "loss_D: 0.52938\n",
      "loss_G_GAN: 1.33586\n",
      "loss_G_L1: 10.41135\n",
      "loss_G: 11.74721\n"
     ]
    },
    {
     "name": "stderr",
     "output_type": "stream",
     "text": [
      "C:\\Users\\tiger\\AppData\\Local\\Temp\\ipykernel_20424\\3359317172.py:45: UserWarning: Conversion from CIE-LAB, via XYZ to sRGB color space resulted in 8 negative Z values that have been clipped to zero\n",
      "  img_rgb = lab2rgb(img)\n",
      "C:\\Users\\tiger\\AppData\\Local\\Temp\\ipykernel_20424\\3359317172.py:45: UserWarning: Conversion from CIE-LAB, via XYZ to sRGB color space resulted in 489 negative Z values that have been clipped to zero\n",
      "  img_rgb = lab2rgb(img)\n"
     ]
    },
    {
     "data": {
      "application/vnd.jupyter.widget-view+json": {
       "model_id": "e8e4195e6eb048ed838f8e061c7b1ee8",
       "version_major": 2,
       "version_minor": 0
      },
      "text/plain": [
       "  0%|          | 0/282 [00:00<?, ?it/s]"
      ]
     },
     "metadata": {},
     "output_type": "display_data"
    },
    {
     "name": "stdout",
     "output_type": "stream",
     "text": [
      "\n",
      "Epoch 4/100\n",
      "Iteration 200/282\n",
      "loss_D_fake: 0.51448\n",
      "loss_D_real: 0.56770\n",
      "loss_D: 0.54109\n",
      "loss_G_GAN: 1.32454\n",
      "loss_G_L1: 10.40909\n",
      "loss_G: 11.73362\n"
     ]
    },
    {
     "name": "stderr",
     "output_type": "stream",
     "text": [
      "C:\\Users\\tiger\\AppData\\Local\\Temp\\ipykernel_20424\\3359317172.py:45: UserWarning: Conversion from CIE-LAB, via XYZ to sRGB color space resulted in 22 negative Z values that have been clipped to zero\n",
      "  img_rgb = lab2rgb(img)\n",
      "C:\\Users\\tiger\\AppData\\Local\\Temp\\ipykernel_20424\\3359317172.py:45: UserWarning: Conversion from CIE-LAB, via XYZ to sRGB color space resulted in 3 negative Z values that have been clipped to zero\n",
      "  img_rgb = lab2rgb(img)\n",
      "C:\\Users\\tiger\\AppData\\Local\\Temp\\ipykernel_20424\\3359317172.py:45: UserWarning: Conversion from CIE-LAB, via XYZ to sRGB color space resulted in 11 negative Z values that have been clipped to zero\n",
      "  img_rgb = lab2rgb(img)\n"
     ]
    },
    {
     "data": {
      "application/vnd.jupyter.widget-view+json": {
       "model_id": "b677c1c2b28f46c69c15872db7d44925",
       "version_major": 2,
       "version_minor": 0
      },
      "text/plain": [
       "  0%|          | 0/282 [00:00<?, ?it/s]"
      ]
     },
     "metadata": {},
     "output_type": "display_data"
    },
    {
     "name": "stdout",
     "output_type": "stream",
     "text": [
      "\n",
      "Epoch 5/100\n",
      "Iteration 200/282\n",
      "loss_D_fake: 0.51859\n",
      "loss_D_real: 0.57694\n",
      "loss_D: 0.54777\n",
      "loss_G_GAN: 1.25302\n",
      "loss_G_L1: 10.34082\n",
      "loss_G: 11.59384\n"
     ]
    },
    {
     "name": "stderr",
     "output_type": "stream",
     "text": [
      "C:\\Users\\tiger\\AppData\\Local\\Temp\\ipykernel_20424\\3359317172.py:45: UserWarning: Conversion from CIE-LAB, via XYZ to sRGB color space resulted in 35 negative Z values that have been clipped to zero\n",
      "  img_rgb = lab2rgb(img)\n",
      "C:\\Users\\tiger\\AppData\\Local\\Temp\\ipykernel_20424\\3359317172.py:45: UserWarning: Conversion from CIE-LAB, via XYZ to sRGB color space resulted in 17 negative Z values that have been clipped to zero\n",
      "  img_rgb = lab2rgb(img)\n",
      "C:\\Users\\tiger\\AppData\\Local\\Temp\\ipykernel_20424\\3359317172.py:45: UserWarning: Conversion from CIE-LAB, via XYZ to sRGB color space resulted in 7 negative Z values that have been clipped to zero\n",
      "  img_rgb = lab2rgb(img)\n",
      "C:\\Users\\tiger\\AppData\\Local\\Temp\\ipykernel_20424\\3359317172.py:45: UserWarning: Conversion from CIE-LAB, via XYZ to sRGB color space resulted in 82 negative Z values that have been clipped to zero\n",
      "  img_rgb = lab2rgb(img)\n",
      "C:\\Users\\tiger\\AppData\\Local\\Temp\\ipykernel_20424\\3359317172.py:45: UserWarning: Conversion from CIE-LAB, via XYZ to sRGB color space resulted in 4 negative Z values that have been clipped to zero\n",
      "  img_rgb = lab2rgb(img)\n",
      "C:\\Users\\tiger\\AppData\\Local\\Temp\\ipykernel_20424\\3359317172.py:45: UserWarning: Conversion from CIE-LAB, via XYZ to sRGB color space resulted in 63 negative Z values that have been clipped to zero\n",
      "  img_rgb = lab2rgb(img)\n",
      "C:\\Users\\tiger\\AppData\\Local\\Temp\\ipykernel_20424\\3359317172.py:45: UserWarning: Conversion from CIE-LAB, via XYZ to sRGB color space resulted in 34 negative Z values that have been clipped to zero\n",
      "  img_rgb = lab2rgb(img)\n",
      "C:\\Users\\tiger\\AppData\\Local\\Temp\\ipykernel_20424\\3359317172.py:45: UserWarning: Conversion from CIE-LAB, via XYZ to sRGB color space resulted in 91 negative Z values that have been clipped to zero\n",
      "  img_rgb = lab2rgb(img)\n"
     ]
    },
    {
     "data": {
      "application/vnd.jupyter.widget-view+json": {
       "model_id": "29ad3b9cba26406ba35a5e0a53896733",
       "version_major": 2,
       "version_minor": 0
      },
      "text/plain": [
       "  0%|          | 0/282 [00:00<?, ?it/s]"
      ]
     },
     "metadata": {},
     "output_type": "display_data"
    },
    {
     "name": "stdout",
     "output_type": "stream",
     "text": [
      "\n",
      "Epoch 6/100\n",
      "Iteration 200/282\n",
      "loss_D_fake: 0.51534\n",
      "loss_D_real: 0.58110\n",
      "loss_D: 0.54822\n",
      "loss_G_GAN: 1.24479\n",
      "loss_G_L1: 10.29425\n",
      "loss_G: 11.53904\n"
     ]
    },
    {
     "name": "stderr",
     "output_type": "stream",
     "text": [
      "C:\\Users\\tiger\\AppData\\Local\\Temp\\ipykernel_20424\\3359317172.py:45: UserWarning: Conversion from CIE-LAB, via XYZ to sRGB color space resulted in 74 negative Z values that have been clipped to zero\n",
      "  img_rgb = lab2rgb(img)\n",
      "C:\\Users\\tiger\\AppData\\Local\\Temp\\ipykernel_20424\\3359317172.py:45: UserWarning: Conversion from CIE-LAB, via XYZ to sRGB color space resulted in 83 negative Z values that have been clipped to zero\n",
      "  img_rgb = lab2rgb(img)\n",
      "C:\\Users\\tiger\\AppData\\Local\\Temp\\ipykernel_20424\\3359317172.py:45: UserWarning: Conversion from CIE-LAB, via XYZ to sRGB color space resulted in 146 negative Z values that have been clipped to zero\n",
      "  img_rgb = lab2rgb(img)\n",
      "C:\\Users\\tiger\\AppData\\Local\\Temp\\ipykernel_20424\\3359317172.py:45: UserWarning: Conversion from CIE-LAB, via XYZ to sRGB color space resulted in 54 negative Z values that have been clipped to zero\n",
      "  img_rgb = lab2rgb(img)\n",
      "C:\\Users\\tiger\\AppData\\Local\\Temp\\ipykernel_20424\\3359317172.py:45: UserWarning: Conversion from CIE-LAB, via XYZ to sRGB color space resulted in 9 negative Z values that have been clipped to zero\n",
      "  img_rgb = lab2rgb(img)\n",
      "C:\\Users\\tiger\\AppData\\Local\\Temp\\ipykernel_20424\\3359317172.py:45: UserWarning: Conversion from CIE-LAB, via XYZ to sRGB color space resulted in 13 negative Z values that have been clipped to zero\n",
      "  img_rgb = lab2rgb(img)\n",
      "C:\\Users\\tiger\\AppData\\Local\\Temp\\ipykernel_20424\\3359317172.py:45: UserWarning: Conversion from CIE-LAB, via XYZ to sRGB color space resulted in 16 negative Z values that have been clipped to zero\n",
      "  img_rgb = lab2rgb(img)\n",
      "C:\\Users\\tiger\\AppData\\Local\\Temp\\ipykernel_20424\\3359317172.py:45: UserWarning: Conversion from CIE-LAB, via XYZ to sRGB color space resulted in 115 negative Z values that have been clipped to zero\n",
      "  img_rgb = lab2rgb(img)\n",
      "C:\\Users\\tiger\\AppData\\Local\\Temp\\ipykernel_20424\\3359317172.py:45: UserWarning: Conversion from CIE-LAB, via XYZ to sRGB color space resulted in 72 negative Z values that have been clipped to zero\n",
      "  img_rgb = lab2rgb(img)\n",
      "C:\\Users\\tiger\\AppData\\Local\\Temp\\ipykernel_20424\\3359317172.py:45: UserWarning: Conversion from CIE-LAB, via XYZ to sRGB color space resulted in 76 negative Z values that have been clipped to zero\n",
      "  img_rgb = lab2rgb(img)\n",
      "C:\\Users\\tiger\\AppData\\Local\\Temp\\ipykernel_20424\\3359317172.py:45: UserWarning: Conversion from CIE-LAB, via XYZ to sRGB color space resulted in 110 negative Z values that have been clipped to zero\n",
      "  img_rgb = lab2rgb(img)\n",
      "C:\\Users\\tiger\\AppData\\Local\\Temp\\ipykernel_20424\\3359317172.py:45: UserWarning: Conversion from CIE-LAB, via XYZ to sRGB color space resulted in 109 negative Z values that have been clipped to zero\n",
      "  img_rgb = lab2rgb(img)\n"
     ]
    },
    {
     "data": {
      "application/vnd.jupyter.widget-view+json": {
       "model_id": "48f6d38d0d0e48ffacc81df920c53d6a",
       "version_major": 2,
       "version_minor": 0
      },
      "text/plain": [
       "  0%|          | 0/282 [00:00<?, ?it/s]"
      ]
     },
     "metadata": {},
     "output_type": "display_data"
    },
    {
     "name": "stdout",
     "output_type": "stream",
     "text": [
      "\n",
      "Epoch 7/100\n",
      "Iteration 200/282\n",
      "loss_D_fake: 0.51961\n",
      "loss_D_real: 0.59096\n",
      "loss_D: 0.55528\n",
      "loss_G_GAN: 1.21787\n",
      "loss_G_L1: 10.25211\n",
      "loss_G: 11.46998\n"
     ]
    },
    {
     "name": "stderr",
     "output_type": "stream",
     "text": [
      "C:\\Users\\tiger\\AppData\\Local\\Temp\\ipykernel_20424\\3359317172.py:45: UserWarning: Conversion from CIE-LAB, via XYZ to sRGB color space resulted in 2 negative Z values that have been clipped to zero\n",
      "  img_rgb = lab2rgb(img)\n",
      "C:\\Users\\tiger\\AppData\\Local\\Temp\\ipykernel_20424\\3359317172.py:45: UserWarning: Conversion from CIE-LAB, via XYZ to sRGB color space resulted in 80 negative Z values that have been clipped to zero\n",
      "  img_rgb = lab2rgb(img)\n",
      "C:\\Users\\tiger\\AppData\\Local\\Temp\\ipykernel_20424\\3359317172.py:45: UserWarning: Conversion from CIE-LAB, via XYZ to sRGB color space resulted in 21 negative Z values that have been clipped to zero\n",
      "  img_rgb = lab2rgb(img)\n",
      "C:\\Users\\tiger\\AppData\\Local\\Temp\\ipykernel_20424\\3359317172.py:45: UserWarning: Conversion from CIE-LAB, via XYZ to sRGB color space resulted in 15 negative Z values that have been clipped to zero\n",
      "  img_rgb = lab2rgb(img)\n",
      "C:\\Users\\tiger\\AppData\\Local\\Temp\\ipykernel_20424\\3359317172.py:45: UserWarning: Conversion from CIE-LAB, via XYZ to sRGB color space resulted in 1 negative Z values that have been clipped to zero\n",
      "  img_rgb = lab2rgb(img)\n",
      "C:\\Users\\tiger\\AppData\\Local\\Temp\\ipykernel_20424\\3359317172.py:45: UserWarning: Conversion from CIE-LAB, via XYZ to sRGB color space resulted in 45 negative Z values that have been clipped to zero\n",
      "  img_rgb = lab2rgb(img)\n",
      "C:\\Users\\tiger\\AppData\\Local\\Temp\\ipykernel_20424\\3359317172.py:45: UserWarning: Conversion from CIE-LAB, via XYZ to sRGB color space resulted in 118 negative Z values that have been clipped to zero\n",
      "  img_rgb = lab2rgb(img)\n"
     ]
    },
    {
     "data": {
      "application/vnd.jupyter.widget-view+json": {
       "model_id": "929bcd328df64af5bfafd9f842c7131c",
       "version_major": 2,
       "version_minor": 0
      },
      "text/plain": [
       "  0%|          | 0/282 [00:00<?, ?it/s]"
      ]
     },
     "metadata": {},
     "output_type": "display_data"
    },
    {
     "name": "stdout",
     "output_type": "stream",
     "text": [
      "\n",
      "Epoch 8/100\n",
      "Iteration 200/282\n",
      "loss_D_fake: 0.51658\n",
      "loss_D_real: 0.58905\n",
      "loss_D: 0.55281\n",
      "loss_G_GAN: 1.22240\n",
      "loss_G_L1: 10.18595\n",
      "loss_G: 11.40834\n"
     ]
    },
    {
     "name": "stderr",
     "output_type": "stream",
     "text": [
      "C:\\Users\\tiger\\AppData\\Local\\Temp\\ipykernel_20424\\3359317172.py:45: UserWarning: Conversion from CIE-LAB, via XYZ to sRGB color space resulted in 19 negative Z values that have been clipped to zero\n",
      "  img_rgb = lab2rgb(img)\n",
      "C:\\Users\\tiger\\AppData\\Local\\Temp\\ipykernel_20424\\3359317172.py:45: UserWarning: Conversion from CIE-LAB, via XYZ to sRGB color space resulted in 5 negative Z values that have been clipped to zero\n",
      "  img_rgb = lab2rgb(img)\n",
      "C:\\Users\\tiger\\AppData\\Local\\Temp\\ipykernel_20424\\3359317172.py:45: UserWarning: Conversion from CIE-LAB, via XYZ to sRGB color space resulted in 23 negative Z values that have been clipped to zero\n",
      "  img_rgb = lab2rgb(img)\n",
      "C:\\Users\\tiger\\AppData\\Local\\Temp\\ipykernel_20424\\3359317172.py:45: UserWarning: Conversion from CIE-LAB, via XYZ to sRGB color space resulted in 12 negative Z values that have been clipped to zero\n",
      "  img_rgb = lab2rgb(img)\n",
      "C:\\Users\\tiger\\AppData\\Local\\Temp\\ipykernel_20424\\3359317172.py:45: UserWarning: Conversion from CIE-LAB, via XYZ to sRGB color space resulted in 10 negative Z values that have been clipped to zero\n",
      "  img_rgb = lab2rgb(img)\n",
      "C:\\Users\\tiger\\AppData\\Local\\Temp\\ipykernel_20424\\3359317172.py:45: UserWarning: Conversion from CIE-LAB, via XYZ to sRGB color space resulted in 31 negative Z values that have been clipped to zero\n",
      "  img_rgb = lab2rgb(img)\n"
     ]
    },
    {
     "data": {
      "application/vnd.jupyter.widget-view+json": {
       "model_id": "44539f81c2b641dd8cac93ff36a43336",
       "version_major": 2,
       "version_minor": 0
      },
      "text/plain": [
       "  0%|          | 0/282 [00:00<?, ?it/s]"
      ]
     },
     "metadata": {},
     "output_type": "display_data"
    },
    {
     "name": "stdout",
     "output_type": "stream",
     "text": [
      "\n",
      "Epoch 9/100\n",
      "Iteration 200/282\n",
      "loss_D_fake: 0.52179\n",
      "loss_D_real: 0.58706\n",
      "loss_D: 0.55442\n",
      "loss_G_GAN: 1.22475\n",
      "loss_G_L1: 10.18636\n",
      "loss_G: 11.41111\n"
     ]
    },
    {
     "name": "stderr",
     "output_type": "stream",
     "text": [
      "C:\\Users\\tiger\\AppData\\Local\\Temp\\ipykernel_20424\\3359317172.py:45: UserWarning: Conversion from CIE-LAB, via XYZ to sRGB color space resulted in 6 negative Z values that have been clipped to zero\n",
      "  img_rgb = lab2rgb(img)\n"
     ]
    },
    {
     "data": {
      "application/vnd.jupyter.widget-view+json": {
       "model_id": "2584b00975a1410789e6f45f59ce9b19",
       "version_major": 2,
       "version_minor": 0
      },
      "text/plain": [
       "  0%|          | 0/282 [00:00<?, ?it/s]"
      ]
     },
     "metadata": {},
     "output_type": "display_data"
    },
    {
     "name": "stdout",
     "output_type": "stream",
     "text": [
      "\n",
      "Epoch 10/100\n",
      "Iteration 200/282\n",
      "loss_D_fake: 0.52856\n",
      "loss_D_real: 0.59525\n",
      "loss_D: 0.56191\n",
      "loss_G_GAN: 1.22157\n",
      "loss_G_L1: 10.12553\n",
      "loss_G: 11.34710\n"
     ]
    },
    {
     "data": {
      "application/vnd.jupyter.widget-view+json": {
       "model_id": "21f32281eb0b4bda961b77ea04d8875b",
       "version_major": 2,
       "version_minor": 0
      },
      "text/plain": [
       "  0%|          | 0/282 [00:00<?, ?it/s]"
      ]
     },
     "metadata": {},
     "output_type": "display_data"
    },
    {
     "name": "stdout",
     "output_type": "stream",
     "text": [
      "\n",
      "Epoch 11/100\n",
      "Iteration 200/282\n",
      "loss_D_fake: 0.52682\n",
      "loss_D_real: 0.58992\n",
      "loss_D: 0.55837\n",
      "loss_G_GAN: 1.21487\n",
      "loss_G_L1: 10.02279\n",
      "loss_G: 11.23766\n"
     ]
    },
    {
     "data": {
      "application/vnd.jupyter.widget-view+json": {
       "model_id": "fb5f356260434399a45e0271fc976401",
       "version_major": 2,
       "version_minor": 0
      },
      "text/plain": [
       "  0%|          | 0/282 [00:00<?, ?it/s]"
      ]
     },
     "metadata": {},
     "output_type": "display_data"
    },
    {
     "name": "stdout",
     "output_type": "stream",
     "text": [
      "\n",
      "Epoch 12/100\n",
      "Iteration 200/282\n",
      "loss_D_fake: 0.52537\n",
      "loss_D_real: 0.59114\n",
      "loss_D: 0.55826\n",
      "loss_G_GAN: 1.21872\n",
      "loss_G_L1: 9.92439\n",
      "loss_G: 11.14311\n"
     ]
    },
    {
     "data": {
      "application/vnd.jupyter.widget-view+json": {
       "model_id": "52318ac393574a64a4b17532fc66c097",
       "version_major": 2,
       "version_minor": 0
      },
      "text/plain": [
       "  0%|          | 0/282 [00:00<?, ?it/s]"
      ]
     },
     "metadata": {},
     "output_type": "display_data"
    },
    {
     "name": "stdout",
     "output_type": "stream",
     "text": [
      "\n",
      "Epoch 13/100\n",
      "Iteration 200/282\n",
      "loss_D_fake: 0.52324\n",
      "loss_D_real: 0.57605\n",
      "loss_D: 0.54965\n",
      "loss_G_GAN: 1.22168\n",
      "loss_G_L1: 9.84742\n",
      "loss_G: 11.06910\n"
     ]
    },
    {
     "data": {
      "application/vnd.jupyter.widget-view+json": {
       "model_id": "6fc4896a5d104ecca35abeb707bec167",
       "version_major": 2,
       "version_minor": 0
      },
      "text/plain": [
       "  0%|          | 0/282 [00:00<?, ?it/s]"
      ]
     },
     "metadata": {},
     "output_type": "display_data"
    },
    {
     "name": "stdout",
     "output_type": "stream",
     "text": [
      "\n",
      "Epoch 14/100\n",
      "Iteration 200/282\n",
      "loss_D_fake: 0.52600\n",
      "loss_D_real: 0.58769\n",
      "loss_D: 0.55684\n",
      "loss_G_GAN: 1.21498\n",
      "loss_G_L1: 9.72738\n",
      "loss_G: 10.94236\n"
     ]
    },
    {
     "data": {
      "application/vnd.jupyter.widget-view+json": {
       "model_id": "c92aacf29fae4febb7a47af77d863e5a",
       "version_major": 2,
       "version_minor": 0
      },
      "text/plain": [
       "  0%|          | 0/282 [00:00<?, ?it/s]"
      ]
     },
     "metadata": {},
     "output_type": "display_data"
    },
    {
     "name": "stdout",
     "output_type": "stream",
     "text": [
      "\n",
      "Epoch 15/100\n",
      "Iteration 200/282\n",
      "loss_D_fake: 0.52804\n",
      "loss_D_real: 0.58730\n",
      "loss_D: 0.55767\n",
      "loss_G_GAN: 1.21522\n",
      "loss_G_L1: 9.62782\n",
      "loss_G: 10.84304\n"
     ]
    },
    {
     "data": {
      "application/vnd.jupyter.widget-view+json": {
       "model_id": "b0786f4c9d6646c6a90212b1b000db9d",
       "version_major": 2,
       "version_minor": 0
      },
      "text/plain": [
       "  0%|          | 0/282 [00:00<?, ?it/s]"
      ]
     },
     "metadata": {},
     "output_type": "display_data"
    },
    {
     "name": "stdout",
     "output_type": "stream",
     "text": [
      "\n",
      "Epoch 16/100\n",
      "Iteration 200/282\n",
      "loss_D_fake: 0.52936\n",
      "loss_D_real: 0.58834\n",
      "loss_D: 0.55885\n",
      "loss_G_GAN: 1.19966\n",
      "loss_G_L1: 9.51563\n",
      "loss_G: 10.71529\n"
     ]
    },
    {
     "data": {
      "application/vnd.jupyter.widget-view+json": {
       "model_id": "7868ae1972544604ae2fd7210b427774",
       "version_major": 2,
       "version_minor": 0
      },
      "text/plain": [
       "  0%|          | 0/282 [00:00<?, ?it/s]"
      ]
     },
     "metadata": {},
     "output_type": "display_data"
    },
    {
     "name": "stdout",
     "output_type": "stream",
     "text": [
      "\n",
      "Epoch 17/100\n",
      "Iteration 200/282\n",
      "loss_D_fake: 0.52895\n",
      "loss_D_real: 0.58304\n",
      "loss_D: 0.55600\n",
      "loss_G_GAN: 1.20658\n",
      "loss_G_L1: 9.34929\n",
      "loss_G: 10.55587\n"
     ]
    },
    {
     "data": {
      "application/vnd.jupyter.widget-view+json": {
       "model_id": "0441a7c637fb43d5b5d237722d8d6597",
       "version_major": 2,
       "version_minor": 0
      },
      "text/plain": [
       "  0%|          | 0/282 [00:00<?, ?it/s]"
      ]
     },
     "metadata": {},
     "output_type": "display_data"
    },
    {
     "name": "stdout",
     "output_type": "stream",
     "text": [
      "\n",
      "Epoch 18/100\n",
      "Iteration 200/282\n",
      "loss_D_fake: 0.52679\n",
      "loss_D_real: 0.58001\n",
      "loss_D: 0.55340\n",
      "loss_G_GAN: 1.20136\n",
      "loss_G_L1: 9.27660\n",
      "loss_G: 10.47796\n"
     ]
    },
    {
     "data": {
      "application/vnd.jupyter.widget-view+json": {
       "model_id": "0534ad7691ce458ea828c06c4f6ea96c",
       "version_major": 2,
       "version_minor": 0
      },
      "text/plain": [
       "  0%|          | 0/282 [00:00<?, ?it/s]"
      ]
     },
     "metadata": {},
     "output_type": "display_data"
    },
    {
     "name": "stdout",
     "output_type": "stream",
     "text": [
      "\n",
      "Epoch 19/100\n",
      "Iteration 200/282\n",
      "loss_D_fake: 0.52706\n",
      "loss_D_real: 0.58215\n",
      "loss_D: 0.55461\n",
      "loss_G_GAN: 1.21139\n",
      "loss_G_L1: 9.15562\n",
      "loss_G: 10.36701\n"
     ]
    },
    {
     "data": {
      "application/vnd.jupyter.widget-view+json": {
       "model_id": "4221c6c1bb0c4f17a2506d3371392a8e",
       "version_major": 2,
       "version_minor": 0
      },
      "text/plain": [
       "  0%|          | 0/282 [00:00<?, ?it/s]"
      ]
     },
     "metadata": {},
     "output_type": "display_data"
    },
    {
     "name": "stdout",
     "output_type": "stream",
     "text": [
      "\n",
      "Epoch 20/100\n",
      "Iteration 200/282\n",
      "loss_D_fake: 0.52814\n",
      "loss_D_real: 0.57421\n",
      "loss_D: 0.55117\n",
      "loss_G_GAN: 1.20946\n",
      "loss_G_L1: 9.08841\n",
      "loss_G: 10.29787\n"
     ]
    },
    {
     "data": {
      "application/vnd.jupyter.widget-view+json": {
       "model_id": "dac391ae415444dcbf793e1e7f925953",
       "version_major": 2,
       "version_minor": 0
      },
      "text/plain": [
       "  0%|          | 0/282 [00:00<?, ?it/s]"
      ]
     },
     "metadata": {},
     "output_type": "display_data"
    },
    {
     "name": "stdout",
     "output_type": "stream",
     "text": [
      "\n",
      "Epoch 21/100\n",
      "Iteration 200/282\n",
      "loss_D_fake: 0.52926\n",
      "loss_D_real: 0.58282\n",
      "loss_D: 0.55604\n",
      "loss_G_GAN: 1.20890\n",
      "loss_G_L1: 8.86633\n",
      "loss_G: 10.07523\n"
     ]
    },
    {
     "data": {
      "application/vnd.jupyter.widget-view+json": {
       "model_id": "10e4363828884cda95c20a515c3949d3",
       "version_major": 2,
       "version_minor": 0
      },
      "text/plain": [
       "  0%|          | 0/282 [00:00<?, ?it/s]"
      ]
     },
     "metadata": {},
     "output_type": "display_data"
    },
    {
     "name": "stdout",
     "output_type": "stream",
     "text": [
      "\n",
      "Epoch 22/100\n",
      "Iteration 200/282\n",
      "loss_D_fake: 0.53372\n",
      "loss_D_real: 0.58193\n",
      "loss_D: 0.55782\n",
      "loss_G_GAN: 1.21321\n",
      "loss_G_L1: 8.77223\n",
      "loss_G: 9.98545\n"
     ]
    },
    {
     "data": {
      "application/vnd.jupyter.widget-view+json": {
       "model_id": "5bd195fb03a5406992eb76de6f1a10e1",
       "version_major": 2,
       "version_minor": 0
      },
      "text/plain": [
       "  0%|          | 0/282 [00:00<?, ?it/s]"
      ]
     },
     "metadata": {},
     "output_type": "display_data"
    },
    {
     "name": "stdout",
     "output_type": "stream",
     "text": [
      "\n",
      "Epoch 23/100\n",
      "Iteration 200/282\n",
      "loss_D_fake: 0.53568\n",
      "loss_D_real: 0.58019\n",
      "loss_D: 0.55793\n",
      "loss_G_GAN: 1.20589\n",
      "loss_G_L1: 8.67814\n",
      "loss_G: 9.88403\n"
     ]
    },
    {
     "data": {
      "application/vnd.jupyter.widget-view+json": {
       "model_id": "e1f1d2a7d9194b64841d3df5f9c757ff",
       "version_major": 2,
       "version_minor": 0
      },
      "text/plain": [
       "  0%|          | 0/282 [00:00<?, ?it/s]"
      ]
     },
     "metadata": {},
     "output_type": "display_data"
    },
    {
     "name": "stdout",
     "output_type": "stream",
     "text": [
      "\n",
      "Epoch 24/100\n",
      "Iteration 200/282\n",
      "loss_D_fake: 0.53553\n",
      "loss_D_real: 0.57542\n",
      "loss_D: 0.55547\n",
      "loss_G_GAN: 1.19861\n",
      "loss_G_L1: 8.54755\n",
      "loss_G: 9.74616\n"
     ]
    },
    {
     "data": {
      "application/vnd.jupyter.widget-view+json": {
       "model_id": "cbb4dee2a22a4e8286587495136fa228",
       "version_major": 2,
       "version_minor": 0
      },
      "text/plain": [
       "  0%|          | 0/282 [00:00<?, ?it/s]"
      ]
     },
     "metadata": {},
     "output_type": "display_data"
    },
    {
     "name": "stdout",
     "output_type": "stream",
     "text": [
      "\n",
      "Epoch 25/100\n",
      "Iteration 200/282\n",
      "loss_D_fake: 0.54278\n",
      "loss_D_real: 0.58005\n",
      "loss_D: 0.56141\n",
      "loss_G_GAN: 1.20572\n",
      "loss_G_L1: 8.40195\n",
      "loss_G: 9.60767\n"
     ]
    },
    {
     "data": {
      "application/vnd.jupyter.widget-view+json": {
       "model_id": "2f5dbc58672c4684a668a1856d23cd4b",
       "version_major": 2,
       "version_minor": 0
      },
      "text/plain": [
       "  0%|          | 0/282 [00:00<?, ?it/s]"
      ]
     },
     "metadata": {},
     "output_type": "display_data"
    },
    {
     "name": "stdout",
     "output_type": "stream",
     "text": [
      "\n",
      "Epoch 26/100\n",
      "Iteration 200/282\n",
      "loss_D_fake: 0.54007\n",
      "loss_D_real: 0.57517\n",
      "loss_D: 0.55762\n",
      "loss_G_GAN: 1.19834\n",
      "loss_G_L1: 8.29553\n",
      "loss_G: 9.49387\n"
     ]
    },
    {
     "data": {
      "application/vnd.jupyter.widget-view+json": {
       "model_id": "4fc77604a1a7419c8b6fe508fdb2c6df",
       "version_major": 2,
       "version_minor": 0
      },
      "text/plain": [
       "  0%|          | 0/282 [00:00<?, ?it/s]"
      ]
     },
     "metadata": {},
     "output_type": "display_data"
    },
    {
     "name": "stdout",
     "output_type": "stream",
     "text": [
      "\n",
      "Epoch 27/100\n",
      "Iteration 200/282\n",
      "loss_D_fake: 0.53943\n",
      "loss_D_real: 0.57567\n",
      "loss_D: 0.55755\n",
      "loss_G_GAN: 1.19925\n",
      "loss_G_L1: 8.18088\n",
      "loss_G: 9.38014\n"
     ]
    },
    {
     "data": {
      "application/vnd.jupyter.widget-view+json": {
       "model_id": "f9b9bf67094c44aa99ed08f093917907",
       "version_major": 2,
       "version_minor": 0
      },
      "text/plain": [
       "  0%|          | 0/282 [00:00<?, ?it/s]"
      ]
     },
     "metadata": {},
     "output_type": "display_data"
    },
    {
     "name": "stdout",
     "output_type": "stream",
     "text": [
      "\n",
      "Epoch 28/100\n",
      "Iteration 200/282\n",
      "loss_D_fake: 0.54531\n",
      "loss_D_real: 0.57285\n",
      "loss_D: 0.55908\n",
      "loss_G_GAN: 1.20198\n",
      "loss_G_L1: 8.03055\n",
      "loss_G: 9.23252\n"
     ]
    },
    {
     "data": {
      "application/vnd.jupyter.widget-view+json": {
       "model_id": "49646e31e5014f74ba2c3dbc8948c0ef",
       "version_major": 2,
       "version_minor": 0
      },
      "text/plain": [
       "  0%|          | 0/282 [00:00<?, ?it/s]"
      ]
     },
     "metadata": {},
     "output_type": "display_data"
    },
    {
     "name": "stdout",
     "output_type": "stream",
     "text": [
      "\n",
      "Epoch 29/100\n",
      "Iteration 200/282\n",
      "loss_D_fake: 0.54562\n",
      "loss_D_real: 0.56982\n",
      "loss_D: 0.55772\n",
      "loss_G_GAN: 1.18156\n",
      "loss_G_L1: 7.94227\n",
      "loss_G: 9.12383\n"
     ]
    },
    {
     "data": {
      "application/vnd.jupyter.widget-view+json": {
       "model_id": "f75220cbfb47491c9e49ba0e11dab10a",
       "version_major": 2,
       "version_minor": 0
      },
      "text/plain": [
       "  0%|          | 0/282 [00:00<?, ?it/s]"
      ]
     },
     "metadata": {},
     "output_type": "display_data"
    },
    {
     "name": "stdout",
     "output_type": "stream",
     "text": [
      "\n",
      "Epoch 30/100\n",
      "Iteration 200/282\n",
      "loss_D_fake: 0.54805\n",
      "loss_D_real: 0.56851\n",
      "loss_D: 0.55828\n",
      "loss_G_GAN: 1.20275\n",
      "loss_G_L1: 7.84847\n",
      "loss_G: 9.05122\n"
     ]
    },
    {
     "data": {
      "application/vnd.jupyter.widget-view+json": {
       "model_id": "561fbc3655974f45b08bafa6fc2d91ef",
       "version_major": 2,
       "version_minor": 0
      },
      "text/plain": [
       "  0%|          | 0/282 [00:00<?, ?it/s]"
      ]
     },
     "metadata": {},
     "output_type": "display_data"
    },
    {
     "name": "stdout",
     "output_type": "stream",
     "text": [
      "\n",
      "Epoch 31/100\n",
      "Iteration 200/282\n",
      "loss_D_fake: 0.54505\n",
      "loss_D_real: 0.56370\n",
      "loss_D: 0.55437\n",
      "loss_G_GAN: 1.18709\n",
      "loss_G_L1: 7.76796\n",
      "loss_G: 8.95505\n"
     ]
    },
    {
     "data": {
      "application/vnd.jupyter.widget-view+json": {
       "model_id": "d4da7f77f5674fe18570d0c7e5b2938b",
       "version_major": 2,
       "version_minor": 0
      },
      "text/plain": [
       "  0%|          | 0/282 [00:00<?, ?it/s]"
      ]
     },
     "metadata": {},
     "output_type": "display_data"
    },
    {
     "name": "stdout",
     "output_type": "stream",
     "text": [
      "\n",
      "Epoch 32/100\n",
      "Iteration 200/282\n",
      "loss_D_fake: 0.54594\n",
      "loss_D_real: 0.56531\n",
      "loss_D: 0.55563\n",
      "loss_G_GAN: 1.18768\n",
      "loss_G_L1: 7.62189\n",
      "loss_G: 8.80956\n"
     ]
    },
    {
     "data": {
      "application/vnd.jupyter.widget-view+json": {
       "model_id": "7afad527332a4a57b8152962f96c00b5",
       "version_major": 2,
       "version_minor": 0
      },
      "text/plain": [
       "  0%|          | 0/282 [00:00<?, ?it/s]"
      ]
     },
     "metadata": {},
     "output_type": "display_data"
    },
    {
     "name": "stdout",
     "output_type": "stream",
     "text": [
      "\n",
      "Epoch 33/100\n",
      "Iteration 200/282\n",
      "loss_D_fake: 0.54218\n",
      "loss_D_real: 0.56105\n",
      "loss_D: 0.55162\n",
      "loss_G_GAN: 1.19826\n",
      "loss_G_L1: 7.54235\n",
      "loss_G: 8.74060\n"
     ]
    },
    {
     "data": {
      "application/vnd.jupyter.widget-view+json": {
       "model_id": "6ffeda42c9564b9ba590da47ec302fa1",
       "version_major": 2,
       "version_minor": 0
      },
      "text/plain": [
       "  0%|          | 0/282 [00:00<?, ?it/s]"
      ]
     },
     "metadata": {},
     "output_type": "display_data"
    },
    {
     "name": "stdout",
     "output_type": "stream",
     "text": [
      "\n",
      "Epoch 34/100\n",
      "Iteration 200/282\n",
      "loss_D_fake: 0.54312\n",
      "loss_D_real: 0.56582\n",
      "loss_D: 0.55447\n",
      "loss_G_GAN: 1.18437\n",
      "loss_G_L1: 7.46103\n",
      "loss_G: 8.64541\n"
     ]
    },
    {
     "data": {
      "application/vnd.jupyter.widget-view+json": {
       "model_id": "2a32997605054294bcfa563243e84107",
       "version_major": 2,
       "version_minor": 0
      },
      "text/plain": [
       "  0%|          | 0/282 [00:00<?, ?it/s]"
      ]
     },
     "metadata": {},
     "output_type": "display_data"
    },
    {
     "name": "stdout",
     "output_type": "stream",
     "text": [
      "\n",
      "Epoch 35/100\n",
      "Iteration 200/282\n",
      "loss_D_fake: 0.54838\n",
      "loss_D_real: 0.56316\n",
      "loss_D: 0.55577\n",
      "loss_G_GAN: 1.18311\n",
      "loss_G_L1: 7.33521\n",
      "loss_G: 8.51833\n"
     ]
    },
    {
     "data": {
      "application/vnd.jupyter.widget-view+json": {
       "model_id": "d98aef0ce8624d90a94895bb7d59a612",
       "version_major": 2,
       "version_minor": 0
      },
      "text/plain": [
       "  0%|          | 0/282 [00:00<?, ?it/s]"
      ]
     },
     "metadata": {},
     "output_type": "display_data"
    },
    {
     "name": "stdout",
     "output_type": "stream",
     "text": [
      "\n",
      "Epoch 36/100\n",
      "Iteration 200/282\n",
      "loss_D_fake: 0.54113\n",
      "loss_D_real: 0.56002\n",
      "loss_D: 0.55058\n",
      "loss_G_GAN: 1.18998\n",
      "loss_G_L1: 7.24366\n",
      "loss_G: 8.43364\n"
     ]
    },
    {
     "data": {
      "application/vnd.jupyter.widget-view+json": {
       "model_id": "3d92776e99564a89b34988ed38837086",
       "version_major": 2,
       "version_minor": 0
      },
      "text/plain": [
       "  0%|          | 0/282 [00:00<?, ?it/s]"
      ]
     },
     "metadata": {},
     "output_type": "display_data"
    },
    {
     "name": "stdout",
     "output_type": "stream",
     "text": [
      "\n",
      "Epoch 37/100\n",
      "Iteration 200/282\n",
      "loss_D_fake: 0.54737\n",
      "loss_D_real: 0.56685\n",
      "loss_D: 0.55711\n",
      "loss_G_GAN: 1.18449\n",
      "loss_G_L1: 7.18601\n",
      "loss_G: 8.37050\n"
     ]
    },
    {
     "name": "stderr",
     "output_type": "stream",
     "text": [
      "C:\\Users\\tiger\\AppData\\Local\\Temp\\ipykernel_20424\\3359317172.py:45: UserWarning: Conversion from CIE-LAB, via XYZ to sRGB color space resulted in 78 negative Z values that have been clipped to zero\n",
      "  img_rgb = lab2rgb(img)\n"
     ]
    },
    {
     "data": {
      "application/vnd.jupyter.widget-view+json": {
       "model_id": "d168b4f1209c4a7b8ae88427a54f331c",
       "version_major": 2,
       "version_minor": 0
      },
      "text/plain": [
       "  0%|          | 0/282 [00:00<?, ?it/s]"
      ]
     },
     "metadata": {},
     "output_type": "display_data"
    },
    {
     "name": "stdout",
     "output_type": "stream",
     "text": [
      "\n",
      "Epoch 38/100\n",
      "Iteration 200/282\n",
      "loss_D_fake: 0.54234\n",
      "loss_D_real: 0.55808\n",
      "loss_D: 0.55021\n",
      "loss_G_GAN: 1.19334\n",
      "loss_G_L1: 7.09901\n",
      "loss_G: 8.29234\n"
     ]
    },
    {
     "name": "stderr",
     "output_type": "stream",
     "text": [
      "C:\\Users\\tiger\\AppData\\Local\\Temp\\ipykernel_20424\\3359317172.py:45: UserWarning: Conversion from CIE-LAB, via XYZ to sRGB color space resulted in 28 negative Z values that have been clipped to zero\n",
      "  img_rgb = lab2rgb(img)\n"
     ]
    },
    {
     "data": {
      "application/vnd.jupyter.widget-view+json": {
       "model_id": "16ae247ab63b4d129a722c711531ac42",
       "version_major": 2,
       "version_minor": 0
      },
      "text/plain": [
       "  0%|          | 0/282 [00:00<?, ?it/s]"
      ]
     },
     "metadata": {},
     "output_type": "display_data"
    },
    {
     "name": "stdout",
     "output_type": "stream",
     "text": [
      "\n",
      "Epoch 39/100\n",
      "Iteration 200/282\n",
      "loss_D_fake: 0.55093\n",
      "loss_D_real: 0.56817\n",
      "loss_D: 0.55955\n",
      "loss_G_GAN: 1.18941\n",
      "loss_G_L1: 7.00168\n",
      "loss_G: 8.19109\n"
     ]
    },
    {
     "name": "stderr",
     "output_type": "stream",
     "text": [
      "C:\\Users\\tiger\\AppData\\Local\\Temp\\ipykernel_20424\\3359317172.py:45: UserWarning: Conversion from CIE-LAB, via XYZ to sRGB color space resulted in 41 negative Z values that have been clipped to zero\n",
      "  img_rgb = lab2rgb(img)\n"
     ]
    },
    {
     "data": {
      "application/vnd.jupyter.widget-view+json": {
       "model_id": "4702791ce7cd48998adb3c77ade5414c",
       "version_major": 2,
       "version_minor": 0
      },
      "text/plain": [
       "  0%|          | 0/282 [00:00<?, ?it/s]"
      ]
     },
     "metadata": {},
     "output_type": "display_data"
    },
    {
     "name": "stdout",
     "output_type": "stream",
     "text": [
      "\n",
      "Epoch 40/100\n",
      "Iteration 200/282\n",
      "loss_D_fake: 0.55885\n",
      "loss_D_real: 0.56837\n",
      "loss_D: 0.56361\n",
      "loss_G_GAN: 1.18149\n",
      "loss_G_L1: 6.90139\n",
      "loss_G: 8.08287\n"
     ]
    },
    {
     "name": "stderr",
     "output_type": "stream",
     "text": [
      "C:\\Users\\tiger\\AppData\\Local\\Temp\\ipykernel_20424\\3359317172.py:45: UserWarning: Conversion from CIE-LAB, via XYZ to sRGB color space resulted in 20 negative Z values that have been clipped to zero\n",
      "  img_rgb = lab2rgb(img)\n"
     ]
    },
    {
     "data": {
      "application/vnd.jupyter.widget-view+json": {
       "model_id": "87c583c470324386b7c2e10902a01c97",
       "version_major": 2,
       "version_minor": 0
      },
      "text/plain": [
       "  0%|          | 0/282 [00:00<?, ?it/s]"
      ]
     },
     "metadata": {},
     "output_type": "display_data"
    },
    {
     "name": "stdout",
     "output_type": "stream",
     "text": [
      "\n",
      "Epoch 41/100\n",
      "Iteration 200/282\n",
      "loss_D_fake: 0.55150\n",
      "loss_D_real: 0.55843\n",
      "loss_D: 0.55497\n",
      "loss_G_GAN: 1.18643\n",
      "loss_G_L1: 6.80871\n",
      "loss_G: 7.99515\n"
     ]
    },
    {
     "name": "stderr",
     "output_type": "stream",
     "text": [
      "C:\\Users\\tiger\\AppData\\Local\\Temp\\ipykernel_20424\\3359317172.py:45: UserWarning: Conversion from CIE-LAB, via XYZ to sRGB color space resulted in 46 negative Z values that have been clipped to zero\n",
      "  img_rgb = lab2rgb(img)\n"
     ]
    },
    {
     "data": {
      "application/vnd.jupyter.widget-view+json": {
       "model_id": "49a648b50bff4c9dafaef47f57cef1e4",
       "version_major": 2,
       "version_minor": 0
      },
      "text/plain": [
       "  0%|          | 0/282 [00:00<?, ?it/s]"
      ]
     },
     "metadata": {},
     "output_type": "display_data"
    },
    {
     "name": "stdout",
     "output_type": "stream",
     "text": [
      "\n",
      "Epoch 42/100\n",
      "Iteration 200/282\n",
      "loss_D_fake: 0.55979\n",
      "loss_D_real: 0.56424\n",
      "loss_D: 0.56201\n",
      "loss_G_GAN: 1.19813\n",
      "loss_G_L1: 6.71148\n",
      "loss_G: 7.90961\n"
     ]
    },
    {
     "name": "stderr",
     "output_type": "stream",
     "text": [
      "C:\\Users\\tiger\\AppData\\Local\\Temp\\ipykernel_20424\\3359317172.py:45: UserWarning: Conversion from CIE-LAB, via XYZ to sRGB color space resulted in 143 negative Z values that have been clipped to zero\n",
      "  img_rgb = lab2rgb(img)\n"
     ]
    },
    {
     "data": {
      "application/vnd.jupyter.widget-view+json": {
       "model_id": "af3238822a854d61a5e1409d272b39e2",
       "version_major": 2,
       "version_minor": 0
      },
      "text/plain": [
       "  0%|          | 0/282 [00:00<?, ?it/s]"
      ]
     },
     "metadata": {},
     "output_type": "display_data"
    },
    {
     "name": "stdout",
     "output_type": "stream",
     "text": [
      "\n",
      "Epoch 43/100\n",
      "Iteration 200/282\n",
      "loss_D_fake: 0.55510\n",
      "loss_D_real: 0.56303\n",
      "loss_D: 0.55906\n",
      "loss_G_GAN: 1.18652\n",
      "loss_G_L1: 6.67722\n",
      "loss_G: 7.86374\n"
     ]
    },
    {
     "data": {
      "application/vnd.jupyter.widget-view+json": {
       "model_id": "bf7cc93dfa134314acda63c9ccd249e9",
       "version_major": 2,
       "version_minor": 0
      },
      "text/plain": [
       "  0%|          | 0/282 [00:00<?, ?it/s]"
      ]
     },
     "metadata": {},
     "output_type": "display_data"
    },
    {
     "name": "stdout",
     "output_type": "stream",
     "text": [
      "\n",
      "Epoch 44/100\n",
      "Iteration 200/282\n",
      "loss_D_fake: 0.54585\n",
      "loss_D_real: 0.55285\n",
      "loss_D: 0.54935\n",
      "loss_G_GAN: 1.18169\n",
      "loss_G_L1: 6.62922\n",
      "loss_G: 7.81091\n"
     ]
    },
    {
     "data": {
      "application/vnd.jupyter.widget-view+json": {
       "model_id": "779453783db24b77bb9282ea00e77a12",
       "version_major": 2,
       "version_minor": 0
      },
      "text/plain": [
       "  0%|          | 0/282 [00:00<?, ?it/s]"
      ]
     },
     "metadata": {},
     "output_type": "display_data"
    },
    {
     "name": "stdout",
     "output_type": "stream",
     "text": [
      "\n",
      "Epoch 45/100\n",
      "Iteration 200/282\n",
      "loss_D_fake: 0.55508\n",
      "loss_D_real: 0.56007\n",
      "loss_D: 0.55757\n",
      "loss_G_GAN: 1.20482\n",
      "loss_G_L1: 6.53195\n",
      "loss_G: 7.73677\n"
     ]
    },
    {
     "data": {
      "application/vnd.jupyter.widget-view+json": {
       "model_id": "3a4ade694108410e96de8fd9dc908661",
       "version_major": 2,
       "version_minor": 0
      },
      "text/plain": [
       "  0%|          | 0/282 [00:00<?, ?it/s]"
      ]
     },
     "metadata": {},
     "output_type": "display_data"
    },
    {
     "name": "stdout",
     "output_type": "stream",
     "text": [
      "\n",
      "Epoch 46/100\n",
      "Iteration 200/282\n",
      "loss_D_fake: 0.56019\n",
      "loss_D_real: 0.56030\n",
      "loss_D: 0.56024\n",
      "loss_G_GAN: 1.18841\n",
      "loss_G_L1: 6.45377\n",
      "loss_G: 7.64217\n"
     ]
    },
    {
     "data": {
      "application/vnd.jupyter.widget-view+json": {
       "model_id": "b2274c6f465341aba94b7f56a4039df2",
       "version_major": 2,
       "version_minor": 0
      },
      "text/plain": [
       "  0%|          | 0/282 [00:00<?, ?it/s]"
      ]
     },
     "metadata": {},
     "output_type": "display_data"
    },
    {
     "name": "stdout",
     "output_type": "stream",
     "text": [
      "\n",
      "Epoch 47/100\n",
      "Iteration 200/282\n",
      "loss_D_fake: 0.54870\n",
      "loss_D_real: 0.55364\n",
      "loss_D: 0.55117\n",
      "loss_G_GAN: 1.19384\n",
      "loss_G_L1: 6.40053\n",
      "loss_G: 7.59437\n"
     ]
    },
    {
     "data": {
      "application/vnd.jupyter.widget-view+json": {
       "model_id": "30465d8ac27747759b8bd893e12654e0",
       "version_major": 2,
       "version_minor": 0
      },
      "text/plain": [
       "  0%|          | 0/282 [00:00<?, ?it/s]"
      ]
     },
     "metadata": {},
     "output_type": "display_data"
    },
    {
     "name": "stdout",
     "output_type": "stream",
     "text": [
      "\n",
      "Epoch 48/100\n",
      "Iteration 200/282\n",
      "loss_D_fake: 0.55643\n",
      "loss_D_real: 0.55958\n",
      "loss_D: 0.55801\n",
      "loss_G_GAN: 1.20121\n",
      "loss_G_L1: 6.35823\n",
      "loss_G: 7.55944\n"
     ]
    },
    {
     "name": "stderr",
     "output_type": "stream",
     "text": [
      "C:\\Users\\tiger\\AppData\\Local\\Temp\\ipykernel_20424\\3359317172.py:45: UserWarning: Conversion from CIE-LAB, via XYZ to sRGB color space resulted in 33 negative Z values that have been clipped to zero\n",
      "  img_rgb = lab2rgb(img)\n"
     ]
    },
    {
     "data": {
      "application/vnd.jupyter.widget-view+json": {
       "model_id": "a5464f5227c24fe89ce80304ae9af5a7",
       "version_major": 2,
       "version_minor": 0
      },
      "text/plain": [
       "  0%|          | 0/282 [00:00<?, ?it/s]"
      ]
     },
     "metadata": {},
     "output_type": "display_data"
    },
    {
     "name": "stdout",
     "output_type": "stream",
     "text": [
      "\n",
      "Epoch 49/100\n",
      "Iteration 200/282\n",
      "loss_D_fake: 0.54967\n",
      "loss_D_real: 0.55499\n",
      "loss_D: 0.55233\n",
      "loss_G_GAN: 1.19310\n",
      "loss_G_L1: 6.32365\n",
      "loss_G: 7.51675\n"
     ]
    },
    {
     "data": {
      "application/vnd.jupyter.widget-view+json": {
       "model_id": "d690c37559d0442a9b96439cc365ecff",
       "version_major": 2,
       "version_minor": 0
      },
      "text/plain": [
       "  0%|          | 0/282 [00:00<?, ?it/s]"
      ]
     },
     "metadata": {},
     "output_type": "display_data"
    },
    {
     "name": "stdout",
     "output_type": "stream",
     "text": [
      "\n",
      "Epoch 50/100\n",
      "Iteration 200/282\n",
      "loss_D_fake: 0.54825\n",
      "loss_D_real: 0.55569\n",
      "loss_D: 0.55197\n",
      "loss_G_GAN: 1.19437\n",
      "loss_G_L1: 6.26642\n",
      "loss_G: 7.46079\n"
     ]
    },
    {
     "data": {
      "application/vnd.jupyter.widget-view+json": {
       "model_id": "67f27b5c14634e32931bb4aadf27a5c9",
       "version_major": 2,
       "version_minor": 0
      },
      "text/plain": [
       "  0%|          | 0/282 [00:00<?, ?it/s]"
      ]
     },
     "metadata": {},
     "output_type": "display_data"
    },
    {
     "name": "stdout",
     "output_type": "stream",
     "text": [
      "\n",
      "Epoch 51/100\n",
      "Iteration 200/282\n",
      "loss_D_fake: 0.55376\n",
      "loss_D_real: 0.55409\n",
      "loss_D: 0.55393\n",
      "loss_G_GAN: 1.20423\n",
      "loss_G_L1: 6.19761\n",
      "loss_G: 7.40184\n"
     ]
    },
    {
     "data": {
      "application/vnd.jupyter.widget-view+json": {
       "model_id": "c285282591a0468e89537916aab4b889",
       "version_major": 2,
       "version_minor": 0
      },
      "text/plain": [
       "  0%|          | 0/282 [00:00<?, ?it/s]"
      ]
     },
     "metadata": {},
     "output_type": "display_data"
    },
    {
     "name": "stdout",
     "output_type": "stream",
     "text": [
      "\n",
      "Epoch 52/100\n",
      "Iteration 200/282\n",
      "loss_D_fake: 0.55351\n",
      "loss_D_real: 0.55743\n",
      "loss_D: 0.55547\n",
      "loss_G_GAN: 1.20429\n",
      "loss_G_L1: 6.15352\n",
      "loss_G: 7.35781\n"
     ]
    },
    {
     "data": {
      "application/vnd.jupyter.widget-view+json": {
       "model_id": "c3e6eecbed414d17b113de719758232a",
       "version_major": 2,
       "version_minor": 0
      },
      "text/plain": [
       "  0%|          | 0/282 [00:00<?, ?it/s]"
      ]
     },
     "metadata": {},
     "output_type": "display_data"
    },
    {
     "name": "stdout",
     "output_type": "stream",
     "text": [
      "\n",
      "Epoch 53/100\n",
      "Iteration 200/282\n",
      "loss_D_fake: 0.54615\n",
      "loss_D_real: 0.55105\n",
      "loss_D: 0.54860\n",
      "loss_G_GAN: 1.19579\n",
      "loss_G_L1: 6.09691\n",
      "loss_G: 7.29270\n"
     ]
    },
    {
     "data": {
      "application/vnd.jupyter.widget-view+json": {
       "model_id": "0826ce32ccd448f587df8587bb76bd47",
       "version_major": 2,
       "version_minor": 0
      },
      "text/plain": [
       "  0%|          | 0/282 [00:00<?, ?it/s]"
      ]
     },
     "metadata": {},
     "output_type": "display_data"
    },
    {
     "name": "stdout",
     "output_type": "stream",
     "text": [
      "\n",
      "Epoch 54/100\n",
      "Iteration 200/282\n",
      "loss_D_fake: 0.56814\n",
      "loss_D_real: 0.57074\n",
      "loss_D: 0.56944\n",
      "loss_G_GAN: 1.19870\n",
      "loss_G_L1: 6.02412\n",
      "loss_G: 7.22282\n"
     ]
    },
    {
     "data": {
      "application/vnd.jupyter.widget-view+json": {
       "model_id": "7b12d7ede77849219962bd68501204d7",
       "version_major": 2,
       "version_minor": 0
      },
      "text/plain": [
       "  0%|          | 0/282 [00:00<?, ?it/s]"
      ]
     },
     "metadata": {},
     "output_type": "display_data"
    },
    {
     "name": "stdout",
     "output_type": "stream",
     "text": [
      "\n",
      "Epoch 55/100\n",
      "Iteration 200/282\n",
      "loss_D_fake: 0.54779\n",
      "loss_D_real: 0.54964\n",
      "loss_D: 0.54872\n",
      "loss_G_GAN: 1.19907\n",
      "loss_G_L1: 6.00541\n",
      "loss_G: 7.20448\n"
     ]
    },
    {
     "data": {
      "application/vnd.jupyter.widget-view+json": {
       "model_id": "b1c680eeee0e4243b7ceb181d17a0f4f",
       "version_major": 2,
       "version_minor": 0
      },
      "text/plain": [
       "  0%|          | 0/282 [00:00<?, ?it/s]"
      ]
     },
     "metadata": {},
     "output_type": "display_data"
    },
    {
     "name": "stdout",
     "output_type": "stream",
     "text": [
      "\n",
      "Epoch 56/100\n",
      "Iteration 200/282\n",
      "loss_D_fake: 0.56385\n",
      "loss_D_real: 0.56246\n",
      "loss_D: 0.56315\n",
      "loss_G_GAN: 1.21162\n",
      "loss_G_L1: 5.95429\n",
      "loss_G: 7.16591\n"
     ]
    },
    {
     "data": {
      "application/vnd.jupyter.widget-view+json": {
       "model_id": "2e6dbf2861c141ae90b7330f300dc473",
       "version_major": 2,
       "version_minor": 0
      },
      "text/plain": [
       "  0%|          | 0/282 [00:00<?, ?it/s]"
      ]
     },
     "metadata": {},
     "output_type": "display_data"
    },
    {
     "name": "stdout",
     "output_type": "stream",
     "text": [
      "\n",
      "Epoch 57/100\n",
      "Iteration 200/282\n",
      "loss_D_fake: 0.53939\n",
      "loss_D_real: 0.54254\n",
      "loss_D: 0.54097\n",
      "loss_G_GAN: 1.20082\n",
      "loss_G_L1: 5.92799\n",
      "loss_G: 7.12881\n"
     ]
    },
    {
     "data": {
      "application/vnd.jupyter.widget-view+json": {
       "model_id": "b52d2ce51f13404a91bb93a91f23c3d1",
       "version_major": 2,
       "version_minor": 0
      },
      "text/plain": [
       "  0%|          | 0/282 [00:00<?, ?it/s]"
      ]
     },
     "metadata": {},
     "output_type": "display_data"
    },
    {
     "name": "stdout",
     "output_type": "stream",
     "text": [
      "\n",
      "Epoch 58/100\n",
      "Iteration 200/282\n",
      "loss_D_fake: 0.56046\n",
      "loss_D_real: 0.55945\n",
      "loss_D: 0.55996\n",
      "loss_G_GAN: 1.22722\n",
      "loss_G_L1: 5.87918\n",
      "loss_G: 7.10641\n"
     ]
    },
    {
     "data": {
      "application/vnd.jupyter.widget-view+json": {
       "model_id": "a57fb1f842ff47e28e135c73811b2339",
       "version_major": 2,
       "version_minor": 0
      },
      "text/plain": [
       "  0%|          | 0/282 [00:00<?, ?it/s]"
      ]
     },
     "metadata": {},
     "output_type": "display_data"
    },
    {
     "name": "stdout",
     "output_type": "stream",
     "text": [
      "\n",
      "Epoch 59/100\n",
      "Iteration 200/282\n",
      "loss_D_fake: 0.54427\n",
      "loss_D_real: 0.54740\n",
      "loss_D: 0.54583\n",
      "loss_G_GAN: 1.22666\n",
      "loss_G_L1: 5.86978\n",
      "loss_G: 7.09644\n"
     ]
    },
    {
     "data": {
      "application/vnd.jupyter.widget-view+json": {
       "model_id": "c37c21746c104ee990b1e60091422d83",
       "version_major": 2,
       "version_minor": 0
      },
      "text/plain": [
       "  0%|          | 0/282 [00:00<?, ?it/s]"
      ]
     },
     "metadata": {},
     "output_type": "display_data"
    },
    {
     "name": "stdout",
     "output_type": "stream",
     "text": [
      "\n",
      "Epoch 60/100\n",
      "Iteration 200/282\n",
      "loss_D_fake: 0.55416\n",
      "loss_D_real: 0.54905\n",
      "loss_D: 0.55160\n",
      "loss_G_GAN: 1.23589\n",
      "loss_G_L1: 5.84776\n",
      "loss_G: 7.08365\n"
     ]
    },
    {
     "name": "stderr",
     "output_type": "stream",
     "text": [
      "C:\\Users\\tiger\\AppData\\Local\\Temp\\ipykernel_20424\\3359317172.py:45: UserWarning: Conversion from CIE-LAB, via XYZ to sRGB color space resulted in 47 negative Z values that have been clipped to zero\n",
      "  img_rgb = lab2rgb(img)\n"
     ]
    },
    {
     "data": {
      "application/vnd.jupyter.widget-view+json": {
       "model_id": "7b198b5418c54cebb8078744582d92af",
       "version_major": 2,
       "version_minor": 0
      },
      "text/plain": [
       "  0%|          | 0/282 [00:00<?, ?it/s]"
      ]
     },
     "metadata": {},
     "output_type": "display_data"
    },
    {
     "name": "stdout",
     "output_type": "stream",
     "text": [
      "\n",
      "Epoch 61/100\n",
      "Iteration 200/282\n",
      "loss_D_fake: 0.56160\n",
      "loss_D_real: 0.56201\n",
      "loss_D: 0.56180\n",
      "loss_G_GAN: 1.24289\n",
      "loss_G_L1: 5.76195\n",
      "loss_G: 7.00484\n"
     ]
    },
    {
     "data": {
      "application/vnd.jupyter.widget-view+json": {
       "model_id": "47f514ed0f504026b3cee30a6175ece0",
       "version_major": 2,
       "version_minor": 0
      },
      "text/plain": [
       "  0%|          | 0/282 [00:00<?, ?it/s]"
      ]
     },
     "metadata": {},
     "output_type": "display_data"
    },
    {
     "name": "stdout",
     "output_type": "stream",
     "text": [
      "\n",
      "Epoch 62/100\n",
      "Iteration 200/282\n",
      "loss_D_fake: 0.57731\n",
      "loss_D_real: 0.58165\n",
      "loss_D: 0.57948\n",
      "loss_G_GAN: 1.23929\n",
      "loss_G_L1: 5.70593\n",
      "loss_G: 6.94522\n"
     ]
    },
    {
     "data": {
      "application/vnd.jupyter.widget-view+json": {
       "model_id": "cb176428b0b84adc87c1f97c1fdcfdf0",
       "version_major": 2,
       "version_minor": 0
      },
      "text/plain": [
       "  0%|          | 0/282 [00:00<?, ?it/s]"
      ]
     },
     "metadata": {},
     "output_type": "display_data"
    },
    {
     "name": "stdout",
     "output_type": "stream",
     "text": [
      "\n",
      "Epoch 63/100\n",
      "Iteration 200/282\n",
      "loss_D_fake: 0.53556\n",
      "loss_D_real: 0.53505\n",
      "loss_D: 0.53530\n",
      "loss_G_GAN: 1.23061\n",
      "loss_G_L1: 5.72111\n",
      "loss_G: 6.95172\n"
     ]
    },
    {
     "data": {
      "application/vnd.jupyter.widget-view+json": {
       "model_id": "3f4ccc62a6454572ae4f9340b55b13ea",
       "version_major": 2,
       "version_minor": 0
      },
      "text/plain": [
       "  0%|          | 0/282 [00:00<?, ?it/s]"
      ]
     },
     "metadata": {},
     "output_type": "display_data"
    },
    {
     "name": "stdout",
     "output_type": "stream",
     "text": [
      "\n",
      "Epoch 64/100\n",
      "Iteration 200/282\n",
      "loss_D_fake: 0.53888\n",
      "loss_D_real: 0.54180\n",
      "loss_D: 0.54034\n",
      "loss_G_GAN: 1.26754\n",
      "loss_G_L1: 5.68805\n",
      "loss_G: 6.95558\n"
     ]
    },
    {
     "data": {
      "application/vnd.jupyter.widget-view+json": {
       "model_id": "d6c2dbc0ed4a47f1a6cfdbfc7230ed84",
       "version_major": 2,
       "version_minor": 0
      },
      "text/plain": [
       "  0%|          | 0/282 [00:00<?, ?it/s]"
      ]
     },
     "metadata": {},
     "output_type": "display_data"
    },
    {
     "name": "stdout",
     "output_type": "stream",
     "text": [
      "\n",
      "Epoch 65/100\n",
      "Iteration 200/282\n",
      "loss_D_fake: 0.53450\n",
      "loss_D_real: 0.53429\n",
      "loss_D: 0.53439\n",
      "loss_G_GAN: 1.24770\n",
      "loss_G_L1: 5.62748\n",
      "loss_G: 6.87518\n"
     ]
    },
    {
     "data": {
      "application/vnd.jupyter.widget-view+json": {
       "model_id": "09355f9dea1b4c318f013a5d6421dde6",
       "version_major": 2,
       "version_minor": 0
      },
      "text/plain": [
       "  0%|          | 0/282 [00:00<?, ?it/s]"
      ]
     },
     "metadata": {},
     "output_type": "display_data"
    },
    {
     "name": "stdout",
     "output_type": "stream",
     "text": [
      "\n",
      "Epoch 66/100\n",
      "Iteration 200/282\n",
      "loss_D_fake: 0.53877\n",
      "loss_D_real: 0.53821\n",
      "loss_D: 0.53849\n",
      "loss_G_GAN: 1.27074\n",
      "loss_G_L1: 5.61304\n",
      "loss_G: 6.88379\n"
     ]
    },
    {
     "data": {
      "application/vnd.jupyter.widget-view+json": {
       "model_id": "f68871838fc34c4ea8ffada8ed3b900d",
       "version_major": 2,
       "version_minor": 0
      },
      "text/plain": [
       "  0%|          | 0/282 [00:00<?, ?it/s]"
      ]
     },
     "metadata": {},
     "output_type": "display_data"
    },
    {
     "name": "stdout",
     "output_type": "stream",
     "text": [
      "\n",
      "Epoch 67/100\n",
      "Iteration 200/282\n",
      "loss_D_fake: 0.53611\n",
      "loss_D_real: 0.53213\n",
      "loss_D: 0.53412\n",
      "loss_G_GAN: 1.28638\n",
      "loss_G_L1: 5.57368\n",
      "loss_G: 6.86006\n"
     ]
    },
    {
     "data": {
      "application/vnd.jupyter.widget-view+json": {
       "model_id": "6127c8b6edcc4d5a88fde74a3b3d3050",
       "version_major": 2,
       "version_minor": 0
      },
      "text/plain": [
       "  0%|          | 0/282 [00:00<?, ?it/s]"
      ]
     },
     "metadata": {},
     "output_type": "display_data"
    },
    {
     "name": "stdout",
     "output_type": "stream",
     "text": [
      "\n",
      "Epoch 68/100\n",
      "Iteration 200/282\n",
      "loss_D_fake: 0.62041\n",
      "loss_D_real: 0.60658\n",
      "loss_D: 0.61349\n",
      "loss_G_GAN: 1.27820\n",
      "loss_G_L1: 5.52392\n",
      "loss_G: 6.80212\n"
     ]
    },
    {
     "name": "stderr",
     "output_type": "stream",
     "text": [
      "C:\\Users\\tiger\\AppData\\Local\\Temp\\ipykernel_20424\\3359317172.py:45: UserWarning: Conversion from CIE-LAB, via XYZ to sRGB color space resulted in 53 negative Z values that have been clipped to zero\n",
      "  img_rgb = lab2rgb(img)\n"
     ]
    },
    {
     "data": {
      "application/vnd.jupyter.widget-view+json": {
       "model_id": "42ccd1f0ff8444678bc4155b96378022",
       "version_major": 2,
       "version_minor": 0
      },
      "text/plain": [
       "  0%|          | 0/282 [00:00<?, ?it/s]"
      ]
     },
     "metadata": {},
     "output_type": "display_data"
    },
    {
     "name": "stdout",
     "output_type": "stream",
     "text": [
      "\n",
      "Epoch 69/100\n",
      "Iteration 200/282\n",
      "loss_D_fake: 0.52620\n",
      "loss_D_real: 0.52721\n",
      "loss_D: 0.52670\n",
      "loss_G_GAN: 1.26024\n",
      "loss_G_L1: 5.52578\n",
      "loss_G: 6.78602\n"
     ]
    },
    {
     "data": {
      "application/vnd.jupyter.widget-view+json": {
       "model_id": "bee09a24a8f44e62a7ea6f531656b560",
       "version_major": 2,
       "version_minor": 0
      },
      "text/plain": [
       "  0%|          | 0/282 [00:00<?, ?it/s]"
      ]
     },
     "metadata": {},
     "output_type": "display_data"
    },
    {
     "name": "stdout",
     "output_type": "stream",
     "text": [
      "\n",
      "Epoch 70/100\n",
      "Iteration 200/282\n",
      "loss_D_fake: 0.53310\n",
      "loss_D_real: 0.53033\n",
      "loss_D: 0.53172\n",
      "loss_G_GAN: 1.29156\n",
      "loss_G_L1: 5.51097\n",
      "loss_G: 6.80254\n"
     ]
    },
    {
     "name": "stderr",
     "output_type": "stream",
     "text": [
      "C:\\Users\\tiger\\AppData\\Local\\Temp\\ipykernel_20424\\3359317172.py:45: UserWarning: Conversion from CIE-LAB, via XYZ to sRGB color space resulted in 30 negative Z values that have been clipped to zero\n",
      "  img_rgb = lab2rgb(img)\n"
     ]
    },
    {
     "data": {
      "application/vnd.jupyter.widget-view+json": {
       "model_id": "6690094ef9ed47e2aea572daf776ba33",
       "version_major": 2,
       "version_minor": 0
      },
      "text/plain": [
       "  0%|          | 0/282 [00:00<?, ?it/s]"
      ]
     },
     "metadata": {},
     "output_type": "display_data"
    },
    {
     "name": "stdout",
     "output_type": "stream",
     "text": [
      "\n",
      "Epoch 71/100\n",
      "Iteration 200/282\n",
      "loss_D_fake: 0.54632\n",
      "loss_D_real: 0.54389\n",
      "loss_D: 0.54511\n",
      "loss_G_GAN: 1.31314\n",
      "loss_G_L1: 5.43008\n",
      "loss_G: 6.74322\n"
     ]
    },
    {
     "data": {
      "application/vnd.jupyter.widget-view+json": {
       "model_id": "8b0913dac9014da19fe00892c1e3b0fd",
       "version_major": 2,
       "version_minor": 0
      },
      "text/plain": [
       "  0%|          | 0/282 [00:00<?, ?it/s]"
      ]
     },
     "metadata": {},
     "output_type": "display_data"
    },
    {
     "name": "stdout",
     "output_type": "stream",
     "text": [
      "\n",
      "Epoch 72/100\n",
      "Iteration 200/282\n",
      "loss_D_fake: 0.52328\n",
      "loss_D_real: 0.51828\n",
      "loss_D: 0.52078\n",
      "loss_G_GAN: 1.34642\n",
      "loss_G_L1: 5.43459\n",
      "loss_G: 6.78102\n"
     ]
    },
    {
     "data": {
      "application/vnd.jupyter.widget-view+json": {
       "model_id": "cf64709508254169a7eb4df520351e04",
       "version_major": 2,
       "version_minor": 0
      },
      "text/plain": [
       "  0%|          | 0/282 [00:00<?, ?it/s]"
      ]
     },
     "metadata": {},
     "output_type": "display_data"
    },
    {
     "name": "stdout",
     "output_type": "stream",
     "text": [
      "\n",
      "Epoch 73/100\n",
      "Iteration 200/282\n",
      "loss_D_fake: 0.57468\n",
      "loss_D_real: 0.57622\n",
      "loss_D: 0.57545\n",
      "loss_G_GAN: 1.30287\n",
      "loss_G_L1: 5.40205\n",
      "loss_G: 6.70493\n"
     ]
    },
    {
     "data": {
      "application/vnd.jupyter.widget-view+json": {
       "model_id": "853f830156a14e7fbf9299554304cce2",
       "version_major": 2,
       "version_minor": 0
      },
      "text/plain": [
       "  0%|          | 0/282 [00:00<?, ?it/s]"
      ]
     },
     "metadata": {},
     "output_type": "display_data"
    },
    {
     "name": "stdout",
     "output_type": "stream",
     "text": [
      "\n",
      "Epoch 74/100\n",
      "Iteration 200/282\n",
      "loss_D_fake: 0.52296\n",
      "loss_D_real: 0.51788\n",
      "loss_D: 0.52042\n",
      "loss_G_GAN: 1.32369\n",
      "loss_G_L1: 5.36417\n",
      "loss_G: 6.68786\n"
     ]
    },
    {
     "data": {
      "application/vnd.jupyter.widget-view+json": {
       "model_id": "a6512db77102468d963021538231eb11",
       "version_major": 2,
       "version_minor": 0
      },
      "text/plain": [
       "  0%|          | 0/282 [00:00<?, ?it/s]"
      ]
     },
     "metadata": {},
     "output_type": "display_data"
    },
    {
     "name": "stdout",
     "output_type": "stream",
     "text": [
      "\n",
      "Epoch 75/100\n",
      "Iteration 200/282\n",
      "loss_D_fake: 0.51974\n",
      "loss_D_real: 0.52138\n",
      "loss_D: 0.52056\n",
      "loss_G_GAN: 1.34746\n",
      "loss_G_L1: 5.36930\n",
      "loss_G: 6.71676\n"
     ]
    },
    {
     "data": {
      "application/vnd.jupyter.widget-view+json": {
       "model_id": "9fcb87b89a87439c87adadf09c231abe",
       "version_major": 2,
       "version_minor": 0
      },
      "text/plain": [
       "  0%|          | 0/282 [00:00<?, ?it/s]"
      ]
     },
     "metadata": {},
     "output_type": "display_data"
    },
    {
     "name": "stdout",
     "output_type": "stream",
     "text": [
      "\n",
      "Epoch 76/100\n",
      "Iteration 200/282\n",
      "loss_D_fake: 0.51437\n",
      "loss_D_real: 0.51392\n",
      "loss_D: 0.51414\n",
      "loss_G_GAN: 1.34320\n",
      "loss_G_L1: 5.33066\n",
      "loss_G: 6.67387\n"
     ]
    },
    {
     "data": {
      "application/vnd.jupyter.widget-view+json": {
       "model_id": "1ab3db51d35e4a4ebda3d8bcc08c7a14",
       "version_major": 2,
       "version_minor": 0
      },
      "text/plain": [
       "  0%|          | 0/282 [00:00<?, ?it/s]"
      ]
     },
     "metadata": {},
     "output_type": "display_data"
    },
    {
     "name": "stdout",
     "output_type": "stream",
     "text": [
      "\n",
      "Epoch 77/100\n",
      "Iteration 200/282\n",
      "loss_D_fake: 0.52946\n",
      "loss_D_real: 0.52302\n",
      "loss_D: 0.52624\n",
      "loss_G_GAN: 1.36180\n",
      "loss_G_L1: 5.29368\n",
      "loss_G: 6.65548\n"
     ]
    },
    {
     "data": {
      "application/vnd.jupyter.widget-view+json": {
       "model_id": "de603b41364d4beda1d1bdac748e5777",
       "version_major": 2,
       "version_minor": 0
      },
      "text/plain": [
       "  0%|          | 0/282 [00:00<?, ?it/s]"
      ]
     },
     "metadata": {},
     "output_type": "display_data"
    },
    {
     "name": "stdout",
     "output_type": "stream",
     "text": [
      "\n",
      "Epoch 78/100\n",
      "Iteration 200/282\n",
      "loss_D_fake: 0.51820\n",
      "loss_D_real: 0.51446\n",
      "loss_D: 0.51633\n",
      "loss_G_GAN: 1.37895\n",
      "loss_G_L1: 5.27977\n",
      "loss_G: 6.65872\n"
     ]
    },
    {
     "data": {
      "application/vnd.jupyter.widget-view+json": {
       "model_id": "6f80dd1268e8449c8b37fe702ad0b441",
       "version_major": 2,
       "version_minor": 0
      },
      "text/plain": [
       "  0%|          | 0/282 [00:00<?, ?it/s]"
      ]
     },
     "metadata": {},
     "output_type": "display_data"
    },
    {
     "name": "stdout",
     "output_type": "stream",
     "text": [
      "\n",
      "Epoch 79/100\n",
      "Iteration 200/282\n",
      "loss_D_fake: 0.56703\n",
      "loss_D_real: 0.55469\n",
      "loss_D: 0.56086\n",
      "loss_G_GAN: 1.37144\n",
      "loss_G_L1: 5.26034\n",
      "loss_G: 6.63178\n"
     ]
    },
    {
     "data": {
      "application/vnd.jupyter.widget-view+json": {
       "model_id": "f9d0164f36c84e81903b7e2e7a0d2c2b",
       "version_major": 2,
       "version_minor": 0
      },
      "text/plain": [
       "  0%|          | 0/282 [00:00<?, ?it/s]"
      ]
     },
     "metadata": {},
     "output_type": "display_data"
    },
    {
     "name": "stdout",
     "output_type": "stream",
     "text": [
      "\n",
      "Epoch 80/100\n",
      "Iteration 200/282\n",
      "loss_D_fake: 0.51243\n",
      "loss_D_real: 0.50504\n",
      "loss_D: 0.50873\n",
      "loss_G_GAN: 1.38514\n",
      "loss_G_L1: 5.23596\n",
      "loss_G: 6.62110\n"
     ]
    },
    {
     "data": {
      "application/vnd.jupyter.widget-view+json": {
       "model_id": "686a4241af094e62b257e2c231e69092",
       "version_major": 2,
       "version_minor": 0
      },
      "text/plain": [
       "  0%|          | 0/282 [00:00<?, ?it/s]"
      ]
     },
     "metadata": {},
     "output_type": "display_data"
    },
    {
     "name": "stdout",
     "output_type": "stream",
     "text": [
      "\n",
      "Epoch 81/100\n",
      "Iteration 200/282\n",
      "loss_D_fake: 0.50430\n",
      "loss_D_real: 0.49989\n",
      "loss_D: 0.50210\n",
      "loss_G_GAN: 1.35378\n",
      "loss_G_L1: 5.21258\n",
      "loss_G: 6.56636\n"
     ]
    },
    {
     "data": {
      "application/vnd.jupyter.widget-view+json": {
       "model_id": "e2ffeb28c828405ca1f161bebe890182",
       "version_major": 2,
       "version_minor": 0
      },
      "text/plain": [
       "  0%|          | 0/282 [00:00<?, ?it/s]"
      ]
     },
     "metadata": {},
     "output_type": "display_data"
    },
    {
     "name": "stdout",
     "output_type": "stream",
     "text": [
      "\n",
      "Epoch 82/100\n",
      "Iteration 200/282\n",
      "loss_D_fake: 0.50690\n",
      "loss_D_real: 0.50510\n",
      "loss_D: 0.50600\n",
      "loss_G_GAN: 1.40573\n",
      "loss_G_L1: 5.18932\n",
      "loss_G: 6.59504\n"
     ]
    },
    {
     "data": {
      "application/vnd.jupyter.widget-view+json": {
       "model_id": "9037d24b7c114804afd1926e5488ace9",
       "version_major": 2,
       "version_minor": 0
      },
      "text/plain": [
       "  0%|          | 0/282 [00:00<?, ?it/s]"
      ]
     },
     "metadata": {},
     "output_type": "display_data"
    },
    {
     "name": "stdout",
     "output_type": "stream",
     "text": [
      "\n",
      "Epoch 83/100\n",
      "Iteration 200/282\n",
      "loss_D_fake: 0.53306\n",
      "loss_D_real: 0.52861\n",
      "loss_D: 0.53083\n",
      "loss_G_GAN: 1.42681\n",
      "loss_G_L1: 5.17930\n",
      "loss_G: 6.60610\n"
     ]
    },
    {
     "data": {
      "application/vnd.jupyter.widget-view+json": {
       "model_id": "167960afa61a4364a28aebc8672b5066",
       "version_major": 2,
       "version_minor": 0
      },
      "text/plain": [
       "  0%|          | 0/282 [00:00<?, ?it/s]"
      ]
     },
     "metadata": {},
     "output_type": "display_data"
    },
    {
     "name": "stdout",
     "output_type": "stream",
     "text": [
      "\n",
      "Epoch 84/100\n",
      "Iteration 200/282\n",
      "loss_D_fake: 0.57340\n",
      "loss_D_real: 0.57052\n",
      "loss_D: 0.57196\n",
      "loss_G_GAN: 1.39553\n",
      "loss_G_L1: 5.11557\n",
      "loss_G: 6.51110\n"
     ]
    },
    {
     "data": {
      "application/vnd.jupyter.widget-view+json": {
       "model_id": "70fc51ed5b4a4a31a5d14fb278d9f150",
       "version_major": 2,
       "version_minor": 0
      },
      "text/plain": [
       "  0%|          | 0/282 [00:00<?, ?it/s]"
      ]
     },
     "metadata": {},
     "output_type": "display_data"
    },
    {
     "name": "stdout",
     "output_type": "stream",
     "text": [
      "\n",
      "Epoch 85/100\n",
      "Iteration 200/282\n",
      "loss_D_fake: 0.51368\n",
      "loss_D_real: 0.51057\n",
      "loss_D: 0.51212\n",
      "loss_G_GAN: 1.43272\n",
      "loss_G_L1: 5.14621\n",
      "loss_G: 6.57894\n"
     ]
    },
    {
     "data": {
      "application/vnd.jupyter.widget-view+json": {
       "model_id": "39a7b46358084facb86bd1722d3e86a9",
       "version_major": 2,
       "version_minor": 0
      },
      "text/plain": [
       "  0%|          | 0/282 [00:00<?, ?it/s]"
      ]
     },
     "metadata": {},
     "output_type": "display_data"
    },
    {
     "name": "stdout",
     "output_type": "stream",
     "text": [
      "\n",
      "Epoch 86/100\n",
      "Iteration 200/282\n",
      "loss_D_fake: 0.49624\n",
      "loss_D_real: 0.48954\n",
      "loss_D: 0.49289\n",
      "loss_G_GAN: 1.45026\n",
      "loss_G_L1: 5.12652\n",
      "loss_G: 6.57678\n"
     ]
    },
    {
     "data": {
      "application/vnd.jupyter.widget-view+json": {
       "model_id": "76f87fd77af34b42bccff3c7a2cc5eb8",
       "version_major": 2,
       "version_minor": 0
      },
      "text/plain": [
       "  0%|          | 0/282 [00:00<?, ?it/s]"
      ]
     },
     "metadata": {},
     "output_type": "display_data"
    },
    {
     "name": "stdout",
     "output_type": "stream",
     "text": [
      "\n",
      "Epoch 87/100\n",
      "Iteration 200/282\n",
      "loss_D_fake: 0.49234\n",
      "loss_D_real: 0.48961\n",
      "loss_D: 0.49097\n",
      "loss_G_GAN: 1.47953\n",
      "loss_G_L1: 5.10905\n",
      "loss_G: 6.58858\n"
     ]
    },
    {
     "data": {
      "application/vnd.jupyter.widget-view+json": {
       "model_id": "78aeca0d193d41fb858ae524119f3957",
       "version_major": 2,
       "version_minor": 0
      },
      "text/plain": [
       "  0%|          | 0/282 [00:00<?, ?it/s]"
      ]
     },
     "metadata": {},
     "output_type": "display_data"
    },
    {
     "name": "stdout",
     "output_type": "stream",
     "text": [
      "\n",
      "Epoch 88/100\n",
      "Iteration 200/282\n",
      "loss_D_fake: 0.50802\n",
      "loss_D_real: 0.49653\n",
      "loss_D: 0.50228\n",
      "loss_G_GAN: 1.47700\n",
      "loss_G_L1: 5.08076\n",
      "loss_G: 6.55775\n"
     ]
    },
    {
     "data": {
      "application/vnd.jupyter.widget-view+json": {
       "model_id": "ffb6cbc4d526481991140830a8c4264a",
       "version_major": 2,
       "version_minor": 0
      },
      "text/plain": [
       "  0%|          | 0/282 [00:00<?, ?it/s]"
      ]
     },
     "metadata": {},
     "output_type": "display_data"
    },
    {
     "name": "stdout",
     "output_type": "stream",
     "text": [
      "\n",
      "Epoch 89/100\n",
      "Iteration 200/282\n",
      "loss_D_fake: 0.49627\n",
      "loss_D_real: 0.48818\n",
      "loss_D: 0.49223\n",
      "loss_G_GAN: 1.48524\n",
      "loss_G_L1: 5.05195\n",
      "loss_G: 6.53719\n"
     ]
    },
    {
     "data": {
      "application/vnd.jupyter.widget-view+json": {
       "model_id": "b410fad8c3734df299a79b3c73c8fff5",
       "version_major": 2,
       "version_minor": 0
      },
      "text/plain": [
       "  0%|          | 0/282 [00:00<?, ?it/s]"
      ]
     },
     "metadata": {},
     "output_type": "display_data"
    },
    {
     "name": "stdout",
     "output_type": "stream",
     "text": [
      "\n",
      "Epoch 90/100\n",
      "Iteration 200/282\n",
      "loss_D_fake: 0.47961\n",
      "loss_D_real: 0.47486\n",
      "loss_D: 0.47723\n",
      "loss_G_GAN: 1.47340\n",
      "loss_G_L1: 5.04651\n",
      "loss_G: 6.51991\n"
     ]
    },
    {
     "data": {
      "application/vnd.jupyter.widget-view+json": {
       "model_id": "ca4a56818b854d8c9de29dc5244b4aad",
       "version_major": 2,
       "version_minor": 0
      },
      "text/plain": [
       "  0%|          | 0/282 [00:00<?, ?it/s]"
      ]
     },
     "metadata": {},
     "output_type": "display_data"
    },
    {
     "name": "stdout",
     "output_type": "stream",
     "text": [
      "\n",
      "Epoch 91/100\n",
      "Iteration 200/282\n",
      "loss_D_fake: 0.47475\n",
      "loss_D_real: 0.46880\n",
      "loss_D: 0.47177\n",
      "loss_G_GAN: 1.42135\n",
      "loss_G_L1: 5.02375\n",
      "loss_G: 6.44510\n"
     ]
    },
    {
     "data": {
      "application/vnd.jupyter.widget-view+json": {
       "model_id": "a0b474c1b3ea4205babd0a3db927c505",
       "version_major": 2,
       "version_minor": 0
      },
      "text/plain": [
       "  0%|          | 0/282 [00:00<?, ?it/s]"
      ]
     },
     "metadata": {},
     "output_type": "display_data"
    },
    {
     "name": "stdout",
     "output_type": "stream",
     "text": [
      "\n",
      "Epoch 92/100\n",
      "Iteration 200/282\n",
      "loss_D_fake: 0.48116\n",
      "loss_D_real: 0.47133\n",
      "loss_D: 0.47625\n",
      "loss_G_GAN: 1.44564\n",
      "loss_G_L1: 4.99558\n",
      "loss_G: 6.44122\n"
     ]
    },
    {
     "data": {
      "application/vnd.jupyter.widget-view+json": {
       "model_id": "3b32886e90c44c0dabe582fac56808a3",
       "version_major": 2,
       "version_minor": 0
      },
      "text/plain": [
       "  0%|          | 0/282 [00:00<?, ?it/s]"
      ]
     },
     "metadata": {},
     "output_type": "display_data"
    },
    {
     "name": "stdout",
     "output_type": "stream",
     "text": [
      "\n",
      "Epoch 93/100\n",
      "Iteration 200/282\n",
      "loss_D_fake: 0.48505\n",
      "loss_D_real: 0.47666\n",
      "loss_D: 0.48085\n",
      "loss_G_GAN: 1.48151\n",
      "loss_G_L1: 4.99512\n",
      "loss_G: 6.47663\n"
     ]
    },
    {
     "data": {
      "application/vnd.jupyter.widget-view+json": {
       "model_id": "e329c6b5113d447b87a31a43b4516f83",
       "version_major": 2,
       "version_minor": 0
      },
      "text/plain": [
       "  0%|          | 0/282 [00:00<?, ?it/s]"
      ]
     },
     "metadata": {},
     "output_type": "display_data"
    },
    {
     "name": "stdout",
     "output_type": "stream",
     "text": [
      "\n",
      "Epoch 94/100\n",
      "Iteration 200/282\n",
      "loss_D_fake: 0.48302\n",
      "loss_D_real: 0.47281\n",
      "loss_D: 0.47792\n",
      "loss_G_GAN: 1.52374\n",
      "loss_G_L1: 4.97812\n",
      "loss_G: 6.50186\n"
     ]
    },
    {
     "data": {
      "application/vnd.jupyter.widget-view+json": {
       "model_id": "e02bc31e7c664f0ea47548d164b427f5",
       "version_major": 2,
       "version_minor": 0
      },
      "text/plain": [
       "  0%|          | 0/282 [00:00<?, ?it/s]"
      ]
     },
     "metadata": {},
     "output_type": "display_data"
    },
    {
     "name": "stdout",
     "output_type": "stream",
     "text": [
      "\n",
      "Epoch 95/100\n",
      "Iteration 200/282\n",
      "loss_D_fake: 0.49885\n",
      "loss_D_real: 0.49499\n",
      "loss_D: 0.49692\n",
      "loss_G_GAN: 1.51792\n",
      "loss_G_L1: 4.96003\n",
      "loss_G: 6.47795\n"
     ]
    },
    {
     "data": {
      "application/vnd.jupyter.widget-view+json": {
       "model_id": "4f521b0b79304404901ec5f52d5cd02a",
       "version_major": 2,
       "version_minor": 0
      },
      "text/plain": [
       "  0%|          | 0/282 [00:00<?, ?it/s]"
      ]
     },
     "metadata": {},
     "output_type": "display_data"
    },
    {
     "name": "stdout",
     "output_type": "stream",
     "text": [
      "\n",
      "Epoch 96/100\n",
      "Iteration 200/282\n",
      "loss_D_fake: 0.48076\n",
      "loss_D_real: 0.47623\n",
      "loss_D: 0.47850\n",
      "loss_G_GAN: 1.53662\n",
      "loss_G_L1: 4.93984\n",
      "loss_G: 6.47647\n"
     ]
    },
    {
     "data": {
      "application/vnd.jupyter.widget-view+json": {
       "model_id": "6316e4bb35e341c88e2056f731b56b61",
       "version_major": 2,
       "version_minor": 0
      },
      "text/plain": [
       "  0%|          | 0/282 [00:00<?, ?it/s]"
      ]
     },
     "metadata": {},
     "output_type": "display_data"
    },
    {
     "name": "stdout",
     "output_type": "stream",
     "text": [
      "\n",
      "Epoch 97/100\n",
      "Iteration 200/282\n",
      "loss_D_fake: 0.47646\n",
      "loss_D_real: 0.46780\n",
      "loss_D: 0.47213\n",
      "loss_G_GAN: 1.53616\n",
      "loss_G_L1: 4.94124\n",
      "loss_G: 6.47740\n"
     ]
    },
    {
     "data": {
      "application/vnd.jupyter.widget-view+json": {
       "model_id": "ef8c6264b42e4a4e881f47a49a434864",
       "version_major": 2,
       "version_minor": 0
      },
      "text/plain": [
       "  0%|          | 0/282 [00:00<?, ?it/s]"
      ]
     },
     "metadata": {},
     "output_type": "display_data"
    },
    {
     "name": "stdout",
     "output_type": "stream",
     "text": [
      "\n",
      "Epoch 98/100\n",
      "Iteration 200/282\n",
      "loss_D_fake: 0.48379\n",
      "loss_D_real: 0.47666\n",
      "loss_D: 0.48023\n",
      "loss_G_GAN: 1.47357\n",
      "loss_G_L1: 4.91722\n",
      "loss_G: 6.39079\n"
     ]
    },
    {
     "data": {
      "application/vnd.jupyter.widget-view+json": {
       "model_id": "ea8485f74a93470cb90d43468a5151f2",
       "version_major": 2,
       "version_minor": 0
      },
      "text/plain": [
       "  0%|          | 0/282 [00:00<?, ?it/s]"
      ]
     },
     "metadata": {},
     "output_type": "display_data"
    },
    {
     "name": "stdout",
     "output_type": "stream",
     "text": [
      "\n",
      "Epoch 99/100\n",
      "Iteration 200/282\n",
      "loss_D_fake: 0.46489\n",
      "loss_D_real: 0.45517\n",
      "loss_D: 0.46003\n",
      "loss_G_GAN: 1.56501\n",
      "loss_G_L1: 4.93891\n",
      "loss_G: 6.50392\n"
     ]
    },
    {
     "data": {
      "application/vnd.jupyter.widget-view+json": {
       "model_id": "ab922c58bcb342c69d9c4e896b664d8d",
       "version_major": 2,
       "version_minor": 0
      },
      "text/plain": [
       "  0%|          | 0/282 [00:00<?, ?it/s]"
      ]
     },
     "metadata": {},
     "output_type": "display_data"
    },
    {
     "name": "stdout",
     "output_type": "stream",
     "text": [
      "\n",
      "Epoch 100/100\n",
      "Iteration 200/282\n",
      "loss_D_fake: 0.47133\n",
      "loss_D_real: 0.46255\n",
      "loss_D: 0.46694\n",
      "loss_G_GAN: 1.59045\n",
      "loss_G_L1: 4.90707\n",
      "loss_G: 6.49752\n"
     ]
    }
   ],
   "source": [
    "def train_model(model, train_dl, epochs, display_every=200):\n",
    "    data = next(iter(val_dl)) # getting a batch for visualizing the model output after fixed intrvals\n",
    "    for e in range(epochs):\n",
    "        loss_meter_dict = create_loss_meters() # function returing a dictionary of objects to \n",
    "        i = 0                                  # log the losses of the complete network\n",
    "        for data in tqdm(train_dl):\n",
    "            model.setup_input(data) \n",
    "            model.optimize()\n",
    "            update_losses(model, loss_meter_dict, count=data['L'].size(0)) # function updating the log objects\n",
    "            i += 1\n",
    "            if i % display_every == 0:\n",
    "                print(f\"\\nEpoch {e+1}/{epochs}\")\n",
    "                print(f\"Iteration {i}/{len(train_dl)}\")\n",
    "                log_results(loss_meter_dict) # function to print out the losses\n",
    "                visualize(model, data, save=False) # function displaying the model's outputs\n",
    "    torch.save(model.state_dict(), 'colorization_model.pth')\n",
    "\n",
    "model = MainModel()\n",
    "train_model(model, train_dl, 100)"
   ]
  },
  {
   "cell_type": "code",
   "execution_count": 17,
   "id": "6fe016d9-1713-4ebe-89e8-9ededc87e551",
   "metadata": {
    "tags": []
   },
   "outputs": [
    {
     "name": "stdout",
     "output_type": "stream",
     "text": [
      "model initialized with norm initialization\n",
      "model initialized with norm initialization\n"
     ]
    }
   ],
   "source": [
    "model = MainModel()\n",
    "model.load_state_dict(torch.load('colorization_model.pth'))\n",
    "data = next(iter(val_dl))\n",
    "visualize(model, data, save=False)"
   ]
  },
  {
   "cell_type": "code",
   "execution_count": 23,
   "id": "77d20009-84f4-4783-939a-ef004b84f542",
   "metadata": {},
   "outputs": [
    {
     "name": "stdout",
     "output_type": "stream",
     "text": [
      "model initialized with norm initialization\n",
      "model initialized with norm initialization\n"
     ]
    },
    {
     "data": {
      "text/plain": [
       "==========================================================================================\n",
       "Layer (type:depth-idx)                   Output Shape              Param #\n",
       "==========================================================================================\n",
       "PatchDiscriminator                       [16, 1, 30, 30]           --\n",
       "├─Sequential: 1-1                        [16, 1, 30, 30]           --\n",
       "│    └─Sequential: 2-1                   [16, 64, 128, 128]        --\n",
       "│    │    └─Conv2d: 3-1                  [16, 64, 128, 128]        3,136\n",
       "│    │    └─LeakyReLU: 3-2               [16, 64, 128, 128]        --\n",
       "│    └─Sequential: 2-2                   [16, 128, 64, 64]         --\n",
       "│    │    └─Conv2d: 3-3                  [16, 128, 64, 64]         131,072\n",
       "│    │    └─BatchNorm2d: 3-4             [16, 128, 64, 64]         256\n",
       "│    │    └─LeakyReLU: 3-5               [16, 128, 64, 64]         --\n",
       "│    └─Sequential: 2-3                   [16, 256, 32, 32]         --\n",
       "│    │    └─Conv2d: 3-6                  [16, 256, 32, 32]         524,288\n",
       "│    │    └─BatchNorm2d: 3-7             [16, 256, 32, 32]         512\n",
       "│    │    └─LeakyReLU: 3-8               [16, 256, 32, 32]         --\n",
       "│    └─Sequential: 2-4                   [16, 512, 31, 31]         --\n",
       "│    │    └─Conv2d: 3-9                  [16, 512, 31, 31]         2,097,152\n",
       "│    │    └─BatchNorm2d: 3-10            [16, 512, 31, 31]         1,024\n",
       "│    │    └─LeakyReLU: 3-11              [16, 512, 31, 31]         --\n",
       "│    └─Sequential: 2-5                   [16, 1, 30, 30]           --\n",
       "│    │    └─Conv2d: 3-12                 [16, 1, 30, 30]           8,193\n",
       "==========================================================================================\n",
       "Total params: 2,765,633\n",
       "Trainable params: 2,765,633\n",
       "Non-trainable params: 0\n",
       "Total mult-adds (G): 50.37\n",
       "==========================================================================================\n",
       "Input size (MB): 12.58\n",
       "Forward/backward pass size (MB): 461.62\n",
       "Params size (MB): 11.06\n",
       "Estimated Total Size (MB): 485.27\n",
       "=========================================================================================="
      ]
     },
     "execution_count": 23,
     "metadata": {},
     "output_type": "execute_result"
    }
   ],
   "source": [
    "model = MainModel()\n",
    "batch_size=16\n",
    "input_shape = (16, 3, 256, 256)\n",
    "summary(model.net_D, input_size=input_shape)"
   ]
  },
  {
   "cell_type": "code",
   "execution_count": 26,
   "id": "97bfab94-3f9e-4b52-b960-b52ba227bdd6",
   "metadata": {
    "tags": []
   },
   "outputs": [
    {
     "name": "stdout",
     "output_type": "stream",
     "text": [
      "(256, 256, 3)\n"
     ]
    }
   ],
   "source": [
    "transforms = transforms.Resize((256, 256), Image.BICUBIC)\n",
    "image = Image.open('lincoln.png')\n",
    "resized_image = transforms(image)\n",
    "resized_image_np = np.array(resized_image)\n",
    "resized_rgb_img = rgba2rgb(resized_image_np)\n",
    "print(resized_rgb_img.shape)"
   ]
  },
  {
   "cell_type": "code",
   "execution_count": 46,
   "id": "5530a06f-2573-46c7-93d7-fce23cd35496",
   "metadata": {
    "tags": []
   },
   "outputs": [
    {
     "name": "stdout",
     "output_type": "stream",
     "text": [
      "(1, 256, 256) (2, 256, 256)\n"
     ]
    }
   ],
   "source": [
    "l_chan_origin = resized_rgb_img[:, :, 0].reshape(1, 256, 256)\n",
    "l_chan = l_chan_origin.reshape(1, 1, 256, 256)\n",
    "l_chan = torch.from_numpy(l_chan).to(dtype=torch.float)\n",
    "ab_chan = model.net_G(l_chan.to(device)).detach().cpu().numpy()\n",
    "ab_chan_origin = ab_chan[0]\n",
    "print(l_chan_origin.shape, ab_chan_origin.shape)"
   ]
  },
  {
   "cell_type": "code",
   "execution_count": 79,
   "id": "ef888c4c-4af3-4f2e-abf7-d7f3f1649fb5",
   "metadata": {
    "tags": []
   },
   "outputs": [],
   "source": [
    "def visualize_thumb(model, data, save=True):\n",
    "    model.net_G.eval()\n",
    "    with torch.no_grad():\n",
    "        model.setup_input(data)\n",
    "        model.forward()\n",
    "    model.net_G.train()\n",
    "    fake_color = model.fake_color.detach()\n",
    "    real_color = model.ab\n",
    "    L = model.L\n",
    "    fake_imgs = lab_to_rgb(L, fake_color)\n",
    "    real_imgs = lab_to_rgb(L, real_color)\n",
    "    for i in range(4):\n",
    "        wandb.log({\n",
    "            \"input_image\": wandb.Image(np.rot90(L[i][0].cpu(), 3)),\n",
    "            \"reconstruction_image\": wandb.Image(np.rot90(fake_imgs[i], 3)),\n",
    "            \"ground_truth_image\": wandb.Image(np.rot90(real_imgs[i], 3)),\n",
    "        })"
   ]
  },
  {
   "cell_type": "code",
   "execution_count": 80,
   "id": "a1df6303-a279-4e00-bebe-4371556a9884",
   "metadata": {
    "tags": []
   },
   "outputs": [
    {
     "name": "stdout",
     "output_type": "stream",
     "text": [
      "4\n",
      "model initialized with norm initialization\n",
      "model initialized with norm initialization\n"
     ]
    }
   ],
   "source": [
    "test_dl = make_dataloaders(base_images=\"Test/\", split='val')\n",
    "model = MainModel()\n",
    "model.load_state_dict(torch.load('colorization_model.pth'))\n",
    "data = next(iter(test_dl))\n",
    "visualize_thumb(model, data, save=False)"
   ]
  },
  {
   "cell_type": "code",
   "execution_count": null,
   "id": "ad6ba481-2dae-4a25-95a3-3cc9ad06d8d0",
   "metadata": {},
   "outputs": [],
   "source": []
  },
  {
   "cell_type": "code",
   "execution_count": null,
   "id": "a39a74f8-fddb-4fb9-ad2a-409076783660",
   "metadata": {},
   "outputs": [],
   "source": []
  }
 ],
 "metadata": {
  "kernelspec": {
   "display_name": "Python 3 (ipykernel)",
   "language": "python",
   "name": "python3"
  },
  "language_info": {
   "codemirror_mode": {
    "name": "ipython",
    "version": 3
   },
   "file_extension": ".py",
   "mimetype": "text/x-python",
   "name": "python",
   "nbconvert_exporter": "python",
   "pygments_lexer": "ipython3",
   "version": "3.10.13"
  }
 },
 "nbformat": 4,
 "nbformat_minor": 5
}
